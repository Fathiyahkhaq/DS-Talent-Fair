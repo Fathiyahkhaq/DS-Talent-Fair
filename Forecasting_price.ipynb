{
  "cells": [
    {
      "cell_type": "markdown",
      "source": [
        "DS Talent Fair - Hacktiv8 Indonesia\n",
        "\n",
        "# Computer Price Forecasting\n",
        "by Fathiyah Kalamal Haq\n",
        "\n",
        "**Objektif:**\n",
        "1. Mencari produk dan brand paling diminati\n",
        "2. Melakukan peramalan harga produk yang paling banyak diminati\n",
        "\n",
        "Dataset yang digunakan merupakan dataset dari sebuah perusahaan ecommerce yang menjual berbagai jenis produk. Terdapat data mengenai produk yang terjual, dimasukkan kedalam keranjang dan yang hanya dilihat saja. Dalam melakukan forecasting, model yang digunakan adalah dengan model ARIMA."
      ],
      "metadata": {
        "id": "IkLfnMpFUzEw"
      }
    },
    {
      "cell_type": "markdown",
      "metadata": {
        "id": "EPVKL8E20IfW"
      },
      "source": [
        "# Import Libraries"
      ]
    },
    {
      "cell_type": "code",
      "execution_count": 11,
      "metadata": {
        "id": "SliLlZ3F0IfX"
      },
      "outputs": [],
      "source": [
        "import pandas as pd\n",
        "import numpy as np\n",
        "import matplotlib.pyplot as plt\n",
        "import seaborn as sns"
      ]
    },
    {
      "cell_type": "markdown",
      "metadata": {
        "id": "nfpHDg060IfY"
      },
      "source": [
        "# Data Loading"
      ]
    },
    {
      "cell_type": "code",
      "source": [
        "from google.colab import drive\n",
        "drive.mount('/content/drive')"
      ],
      "metadata": {
        "colab": {
          "base_uri": "https://localhost:8080/"
        },
        "id": "XXX6Cdif3OvO",
        "outputId": "75ed481c-75bc-4374-ca00-eef728fcb1eb"
      },
      "execution_count": 12,
      "outputs": [
        {
          "output_type": "stream",
          "name": "stdout",
          "text": [
            "Drive already mounted at /content/drive; to attempt to forcibly remount, call drive.mount(\"/content/drive\", force_remount=True).\n"
          ]
        }
      ]
    },
    {
      "cell_type": "code",
      "execution_count": 13,
      "metadata": {
        "colab": {
          "base_uri": "https://localhost:8080/",
          "height": 337
        },
        "id": "Pwff3yED0IfZ",
        "outputId": "861adf69-a84c-44ec-ec6c-9e74f3cb552b"
      },
      "outputs": [
        {
          "output_type": "execute_result",
          "data": {
            "text/plain": [
              "                     event_time event_type  product_id          category_id  \\\n",
              "885124  2021-02-28 23:55:01 UTC       view      953226  2144415927553229037   \n",
              "885125  2021-02-28 23:58:05 UTC       view     1715907  2144415927049912542   \n",
              "885126  2021-02-28 23:58:09 UTC       view     4170534  2144415939364389423   \n",
              "885127  2021-02-28 23:58:14 UTC       view      888273  2144415921932861531   \n",
              "885128  2021-02-28 23:59:09 UTC       view      743182  2144415935631458761   \n",
              "\n",
              "                       category_code     brand   price              user_id  \\\n",
              "885124                           NaN       NaN  219.94  1515915625611023730   \n",
              "885125          electronics.video.tv  starwind   80.03  1515915625611024014   \n",
              "885126            electronics.clocks   amazfit   64.92  1515915625611024020   \n",
              "885127         electronics.telephone       NaN   10.16  1515915625611024030   \n",
              "885128  construction.tools.soldering      kada   65.08  1515915625556087775   \n",
              "\n",
              "       user_session  \n",
              "885124   FRLqIttxKU  \n",
              "885125   g6WqPf50Ma  \n",
              "885126   xNIJBqZdkd  \n",
              "885127   9pCbKMIcSx  \n",
              "885128   BejOXRngEW  "
            ],
            "text/html": [
              "\n",
              "  <div id=\"df-564f586c-adbf-4904-aba0-2de6d1422baa\">\n",
              "    <div class=\"colab-df-container\">\n",
              "      <div>\n",
              "<style scoped>\n",
              "    .dataframe tbody tr th:only-of-type {\n",
              "        vertical-align: middle;\n",
              "    }\n",
              "\n",
              "    .dataframe tbody tr th {\n",
              "        vertical-align: top;\n",
              "    }\n",
              "\n",
              "    .dataframe thead th {\n",
              "        text-align: right;\n",
              "    }\n",
              "</style>\n",
              "<table border=\"1\" class=\"dataframe\">\n",
              "  <thead>\n",
              "    <tr style=\"text-align: right;\">\n",
              "      <th></th>\n",
              "      <th>event_time</th>\n",
              "      <th>event_type</th>\n",
              "      <th>product_id</th>\n",
              "      <th>category_id</th>\n",
              "      <th>category_code</th>\n",
              "      <th>brand</th>\n",
              "      <th>price</th>\n",
              "      <th>user_id</th>\n",
              "      <th>user_session</th>\n",
              "    </tr>\n",
              "  </thead>\n",
              "  <tbody>\n",
              "    <tr>\n",
              "      <th>885124</th>\n",
              "      <td>2021-02-28 23:55:01 UTC</td>\n",
              "      <td>view</td>\n",
              "      <td>953226</td>\n",
              "      <td>2144415927553229037</td>\n",
              "      <td>NaN</td>\n",
              "      <td>NaN</td>\n",
              "      <td>219.94</td>\n",
              "      <td>1515915625611023730</td>\n",
              "      <td>FRLqIttxKU</td>\n",
              "    </tr>\n",
              "    <tr>\n",
              "      <th>885125</th>\n",
              "      <td>2021-02-28 23:58:05 UTC</td>\n",
              "      <td>view</td>\n",
              "      <td>1715907</td>\n",
              "      <td>2144415927049912542</td>\n",
              "      <td>electronics.video.tv</td>\n",
              "      <td>starwind</td>\n",
              "      <td>80.03</td>\n",
              "      <td>1515915625611024014</td>\n",
              "      <td>g6WqPf50Ma</td>\n",
              "    </tr>\n",
              "    <tr>\n",
              "      <th>885126</th>\n",
              "      <td>2021-02-28 23:58:09 UTC</td>\n",
              "      <td>view</td>\n",
              "      <td>4170534</td>\n",
              "      <td>2144415939364389423</td>\n",
              "      <td>electronics.clocks</td>\n",
              "      <td>amazfit</td>\n",
              "      <td>64.92</td>\n",
              "      <td>1515915625611024020</td>\n",
              "      <td>xNIJBqZdkd</td>\n",
              "    </tr>\n",
              "    <tr>\n",
              "      <th>885127</th>\n",
              "      <td>2021-02-28 23:58:14 UTC</td>\n",
              "      <td>view</td>\n",
              "      <td>888273</td>\n",
              "      <td>2144415921932861531</td>\n",
              "      <td>electronics.telephone</td>\n",
              "      <td>NaN</td>\n",
              "      <td>10.16</td>\n",
              "      <td>1515915625611024030</td>\n",
              "      <td>9pCbKMIcSx</td>\n",
              "    </tr>\n",
              "    <tr>\n",
              "      <th>885128</th>\n",
              "      <td>2021-02-28 23:59:09 UTC</td>\n",
              "      <td>view</td>\n",
              "      <td>743182</td>\n",
              "      <td>2144415935631458761</td>\n",
              "      <td>construction.tools.soldering</td>\n",
              "      <td>kada</td>\n",
              "      <td>65.08</td>\n",
              "      <td>1515915625556087775</td>\n",
              "      <td>BejOXRngEW</td>\n",
              "    </tr>\n",
              "  </tbody>\n",
              "</table>\n",
              "</div>\n",
              "      <button class=\"colab-df-convert\" onclick=\"convertToInteractive('df-564f586c-adbf-4904-aba0-2de6d1422baa')\"\n",
              "              title=\"Convert this dataframe to an interactive table.\"\n",
              "              style=\"display:none;\">\n",
              "        \n",
              "  <svg xmlns=\"http://www.w3.org/2000/svg\" height=\"24px\"viewBox=\"0 0 24 24\"\n",
              "       width=\"24px\">\n",
              "    <path d=\"M0 0h24v24H0V0z\" fill=\"none\"/>\n",
              "    <path d=\"M18.56 5.44l.94 2.06.94-2.06 2.06-.94-2.06-.94-.94-2.06-.94 2.06-2.06.94zm-11 1L8.5 8.5l.94-2.06 2.06-.94-2.06-.94L8.5 2.5l-.94 2.06-2.06.94zm10 10l.94 2.06.94-2.06 2.06-.94-2.06-.94-.94-2.06-.94 2.06-2.06.94z\"/><path d=\"M17.41 7.96l-1.37-1.37c-.4-.4-.92-.59-1.43-.59-.52 0-1.04.2-1.43.59L10.3 9.45l-7.72 7.72c-.78.78-.78 2.05 0 2.83L4 21.41c.39.39.9.59 1.41.59.51 0 1.02-.2 1.41-.59l7.78-7.78 2.81-2.81c.8-.78.8-2.07 0-2.86zM5.41 20L4 18.59l7.72-7.72 1.47 1.35L5.41 20z\"/>\n",
              "  </svg>\n",
              "      </button>\n",
              "      \n",
              "  <style>\n",
              "    .colab-df-container {\n",
              "      display:flex;\n",
              "      flex-wrap:wrap;\n",
              "      gap: 12px;\n",
              "    }\n",
              "\n",
              "    .colab-df-convert {\n",
              "      background-color: #E8F0FE;\n",
              "      border: none;\n",
              "      border-radius: 50%;\n",
              "      cursor: pointer;\n",
              "      display: none;\n",
              "      fill: #1967D2;\n",
              "      height: 32px;\n",
              "      padding: 0 0 0 0;\n",
              "      width: 32px;\n",
              "    }\n",
              "\n",
              "    .colab-df-convert:hover {\n",
              "      background-color: #E2EBFA;\n",
              "      box-shadow: 0px 1px 2px rgba(60, 64, 67, 0.3), 0px 1px 3px 1px rgba(60, 64, 67, 0.15);\n",
              "      fill: #174EA6;\n",
              "    }\n",
              "\n",
              "    [theme=dark] .colab-df-convert {\n",
              "      background-color: #3B4455;\n",
              "      fill: #D2E3FC;\n",
              "    }\n",
              "\n",
              "    [theme=dark] .colab-df-convert:hover {\n",
              "      background-color: #434B5C;\n",
              "      box-shadow: 0px 1px 3px 1px rgba(0, 0, 0, 0.15);\n",
              "      filter: drop-shadow(0px 1px 2px rgba(0, 0, 0, 0.3));\n",
              "      fill: #FFFFFF;\n",
              "    }\n",
              "  </style>\n",
              "\n",
              "      <script>\n",
              "        const buttonEl =\n",
              "          document.querySelector('#df-564f586c-adbf-4904-aba0-2de6d1422baa button.colab-df-convert');\n",
              "        buttonEl.style.display =\n",
              "          google.colab.kernel.accessAllowed ? 'block' : 'none';\n",
              "\n",
              "        async function convertToInteractive(key) {\n",
              "          const element = document.querySelector('#df-564f586c-adbf-4904-aba0-2de6d1422baa');\n",
              "          const dataTable =\n",
              "            await google.colab.kernel.invokeFunction('convertToInteractive',\n",
              "                                                     [key], {});\n",
              "          if (!dataTable) return;\n",
              "\n",
              "          const docLinkHtml = 'Like what you see? Visit the ' +\n",
              "            '<a target=\"_blank\" href=https://colab.research.google.com/notebooks/data_table.ipynb>data table notebook</a>'\n",
              "            + ' to learn more about interactive tables.';\n",
              "          element.innerHTML = '';\n",
              "          dataTable['output_type'] = 'display_data';\n",
              "          await google.colab.output.renderOutput(dataTable, element);\n",
              "          const docLink = document.createElement('div');\n",
              "          docLink.innerHTML = docLinkHtml;\n",
              "          element.appendChild(docLink);\n",
              "        }\n",
              "      </script>\n",
              "    </div>\n",
              "  </div>\n",
              "  "
            ]
          },
          "metadata": {},
          "execution_count": 13
        }
      ],
      "source": [
        "df = pd.read_csv(\"/content/drive/MyDrive/first question/user-events.csv\")\n",
        "df.tail()"
      ]
    },
    {
      "cell_type": "code",
      "execution_count": 14,
      "metadata": {
        "colab": {
          "base_uri": "https://localhost:8080/"
        },
        "id": "PehCUCuk0Ifa",
        "outputId": "70ade878-7866-4666-99c9-ad1335de160d"
      },
      "outputs": [
        {
          "output_type": "stream",
          "name": "stdout",
          "text": [
            "<class 'pandas.core.frame.DataFrame'>\n",
            "RangeIndex: 885129 entries, 0 to 885128\n",
            "Data columns (total 9 columns):\n",
            " #   Column         Non-Null Count   Dtype  \n",
            "---  ------         --------------   -----  \n",
            " 0   event_time     885129 non-null  object \n",
            " 1   event_type     885129 non-null  object \n",
            " 2   product_id     885129 non-null  int64  \n",
            " 3   category_id    885129 non-null  int64  \n",
            " 4   category_code  648910 non-null  object \n",
            " 5   brand          672765 non-null  object \n",
            " 6   price          885129 non-null  float64\n",
            " 7   user_id        885129 non-null  int64  \n",
            " 8   user_session   884964 non-null  object \n",
            "dtypes: float64(1), int64(3), object(5)\n",
            "memory usage: 60.8+ MB\n"
          ]
        }
      ],
      "source": [
        "df.info()"
      ]
    },
    {
      "cell_type": "code",
      "execution_count": 16,
      "metadata": {
        "id": "Gr-VzEiy0Ifa"
      },
      "outputs": [],
      "source": [
        "data=df.copy()"
      ]
    },
    {
      "cell_type": "code",
      "execution_count": 17,
      "metadata": {
        "colab": {
          "base_uri": "https://localhost:8080/"
        },
        "id": "-Cx97rj50Ifb",
        "outputId": "b856b085-e44f-4041-8a82-f8b8238c2a4f"
      },
      "outputs": [
        {
          "output_type": "stream",
          "name": "stdout",
          "text": [
            "data duplikat:  655\n",
            "data duplikat setelah drop:  0\n"
          ]
        }
      ],
      "source": [
        "print(\"data duplikat: \",df.duplicated().sum())\n",
        "df.drop_duplicates(inplace=True)\n",
        "print(\"data duplikat setelah drop: \",df.duplicated().sum())"
      ]
    },
    {
      "cell_type": "code",
      "execution_count": 18,
      "metadata": {
        "colab": {
          "base_uri": "https://localhost:8080/",
          "height": 332
        },
        "id": "Lsn9T6d30Ifb",
        "outputId": "17fe3abe-60a7-4078-cc64-190bf3ec78ec"
      },
      "outputs": [
        {
          "output_type": "execute_result",
          "data": {
            "text/plain": [
              "               Unique  missing value          %\n",
              "event_time     845041              0   0.000000\n",
              "event_type          3              0   0.000000\n",
              "product_id      53453              0   0.000000\n",
              "category_id       718              0   0.000000\n",
              "category_code     107         236047  26.687839\n",
              "brand             999         212232  23.995279\n",
              "price           12422              0   0.000000\n",
              "user_id        407283              0   0.000000\n",
              "user_session   490398            162   0.018316"
            ],
            "text/html": [
              "\n",
              "  <div id=\"df-78f0c5be-ac4c-4d62-998f-e8f2c2262a44\">\n",
              "    <div class=\"colab-df-container\">\n",
              "      <div>\n",
              "<style scoped>\n",
              "    .dataframe tbody tr th:only-of-type {\n",
              "        vertical-align: middle;\n",
              "    }\n",
              "\n",
              "    .dataframe tbody tr th {\n",
              "        vertical-align: top;\n",
              "    }\n",
              "\n",
              "    .dataframe thead th {\n",
              "        text-align: right;\n",
              "    }\n",
              "</style>\n",
              "<table border=\"1\" class=\"dataframe\">\n",
              "  <thead>\n",
              "    <tr style=\"text-align: right;\">\n",
              "      <th></th>\n",
              "      <th>Unique</th>\n",
              "      <th>missing value</th>\n",
              "      <th>%</th>\n",
              "    </tr>\n",
              "  </thead>\n",
              "  <tbody>\n",
              "    <tr>\n",
              "      <th>event_time</th>\n",
              "      <td>845041</td>\n",
              "      <td>0</td>\n",
              "      <td>0.000000</td>\n",
              "    </tr>\n",
              "    <tr>\n",
              "      <th>event_type</th>\n",
              "      <td>3</td>\n",
              "      <td>0</td>\n",
              "      <td>0.000000</td>\n",
              "    </tr>\n",
              "    <tr>\n",
              "      <th>product_id</th>\n",
              "      <td>53453</td>\n",
              "      <td>0</td>\n",
              "      <td>0.000000</td>\n",
              "    </tr>\n",
              "    <tr>\n",
              "      <th>category_id</th>\n",
              "      <td>718</td>\n",
              "      <td>0</td>\n",
              "      <td>0.000000</td>\n",
              "    </tr>\n",
              "    <tr>\n",
              "      <th>category_code</th>\n",
              "      <td>107</td>\n",
              "      <td>236047</td>\n",
              "      <td>26.687839</td>\n",
              "    </tr>\n",
              "    <tr>\n",
              "      <th>brand</th>\n",
              "      <td>999</td>\n",
              "      <td>212232</td>\n",
              "      <td>23.995279</td>\n",
              "    </tr>\n",
              "    <tr>\n",
              "      <th>price</th>\n",
              "      <td>12422</td>\n",
              "      <td>0</td>\n",
              "      <td>0.000000</td>\n",
              "    </tr>\n",
              "    <tr>\n",
              "      <th>user_id</th>\n",
              "      <td>407283</td>\n",
              "      <td>0</td>\n",
              "      <td>0.000000</td>\n",
              "    </tr>\n",
              "    <tr>\n",
              "      <th>user_session</th>\n",
              "      <td>490398</td>\n",
              "      <td>162</td>\n",
              "      <td>0.018316</td>\n",
              "    </tr>\n",
              "  </tbody>\n",
              "</table>\n",
              "</div>\n",
              "      <button class=\"colab-df-convert\" onclick=\"convertToInteractive('df-78f0c5be-ac4c-4d62-998f-e8f2c2262a44')\"\n",
              "              title=\"Convert this dataframe to an interactive table.\"\n",
              "              style=\"display:none;\">\n",
              "        \n",
              "  <svg xmlns=\"http://www.w3.org/2000/svg\" height=\"24px\"viewBox=\"0 0 24 24\"\n",
              "       width=\"24px\">\n",
              "    <path d=\"M0 0h24v24H0V0z\" fill=\"none\"/>\n",
              "    <path d=\"M18.56 5.44l.94 2.06.94-2.06 2.06-.94-2.06-.94-.94-2.06-.94 2.06-2.06.94zm-11 1L8.5 8.5l.94-2.06 2.06-.94-2.06-.94L8.5 2.5l-.94 2.06-2.06.94zm10 10l.94 2.06.94-2.06 2.06-.94-2.06-.94-.94-2.06-.94 2.06-2.06.94z\"/><path d=\"M17.41 7.96l-1.37-1.37c-.4-.4-.92-.59-1.43-.59-.52 0-1.04.2-1.43.59L10.3 9.45l-7.72 7.72c-.78.78-.78 2.05 0 2.83L4 21.41c.39.39.9.59 1.41.59.51 0 1.02-.2 1.41-.59l7.78-7.78 2.81-2.81c.8-.78.8-2.07 0-2.86zM5.41 20L4 18.59l7.72-7.72 1.47 1.35L5.41 20z\"/>\n",
              "  </svg>\n",
              "      </button>\n",
              "      \n",
              "  <style>\n",
              "    .colab-df-container {\n",
              "      display:flex;\n",
              "      flex-wrap:wrap;\n",
              "      gap: 12px;\n",
              "    }\n",
              "\n",
              "    .colab-df-convert {\n",
              "      background-color: #E8F0FE;\n",
              "      border: none;\n",
              "      border-radius: 50%;\n",
              "      cursor: pointer;\n",
              "      display: none;\n",
              "      fill: #1967D2;\n",
              "      height: 32px;\n",
              "      padding: 0 0 0 0;\n",
              "      width: 32px;\n",
              "    }\n",
              "\n",
              "    .colab-df-convert:hover {\n",
              "      background-color: #E2EBFA;\n",
              "      box-shadow: 0px 1px 2px rgba(60, 64, 67, 0.3), 0px 1px 3px 1px rgba(60, 64, 67, 0.15);\n",
              "      fill: #174EA6;\n",
              "    }\n",
              "\n",
              "    [theme=dark] .colab-df-convert {\n",
              "      background-color: #3B4455;\n",
              "      fill: #D2E3FC;\n",
              "    }\n",
              "\n",
              "    [theme=dark] .colab-df-convert:hover {\n",
              "      background-color: #434B5C;\n",
              "      box-shadow: 0px 1px 3px 1px rgba(0, 0, 0, 0.15);\n",
              "      filter: drop-shadow(0px 1px 2px rgba(0, 0, 0, 0.3));\n",
              "      fill: #FFFFFF;\n",
              "    }\n",
              "  </style>\n",
              "\n",
              "      <script>\n",
              "        const buttonEl =\n",
              "          document.querySelector('#df-78f0c5be-ac4c-4d62-998f-e8f2c2262a44 button.colab-df-convert');\n",
              "        buttonEl.style.display =\n",
              "          google.colab.kernel.accessAllowed ? 'block' : 'none';\n",
              "\n",
              "        async function convertToInteractive(key) {\n",
              "          const element = document.querySelector('#df-78f0c5be-ac4c-4d62-998f-e8f2c2262a44');\n",
              "          const dataTable =\n",
              "            await google.colab.kernel.invokeFunction('convertToInteractive',\n",
              "                                                     [key], {});\n",
              "          if (!dataTable) return;\n",
              "\n",
              "          const docLinkHtml = 'Like what you see? Visit the ' +\n",
              "            '<a target=\"_blank\" href=https://colab.research.google.com/notebooks/data_table.ipynb>data table notebook</a>'\n",
              "            + ' to learn more about interactive tables.';\n",
              "          element.innerHTML = '';\n",
              "          dataTable['output_type'] = 'display_data';\n",
              "          await google.colab.output.renderOutput(dataTable, element);\n",
              "          const docLink = document.createElement('div');\n",
              "          docLink.innerHTML = docLinkHtml;\n",
              "          element.appendChild(docLink);\n",
              "        }\n",
              "      </script>\n",
              "    </div>\n",
              "  </div>\n",
              "  "
            ]
          },
          "metadata": {},
          "execution_count": 18
        }
      ],
      "source": [
        "pd.DataFrame({\n",
        "    \"Unique\": df.nunique(),\n",
        "    \"missing value\": df.isnull().sum(),\n",
        "    \"%\": (df.isnull().sum()/df.shape[0])*100\n",
        "})"
      ]
    },
    {
      "cell_type": "markdown",
      "metadata": {
        "id": "1Xt5gsed0Ifc"
      },
      "source": [
        "Data yang kosong terdapat pada kolom `user_session`, `brand`,`category_code\t`."
      ]
    },
    {
      "cell_type": "markdown",
      "metadata": {
        "id": "MCHKXuap0Ifc"
      },
      "source": [
        "# EDA"
      ]
    },
    {
      "cell_type": "markdown",
      "metadata": {
        "id": "gd2OKSat0Ifd"
      },
      "source": [
        "# Tipe User"
      ]
    },
    {
      "cell_type": "code",
      "execution_count": 20,
      "metadata": {
        "colab": {
          "base_uri": "https://localhost:8080/",
          "height": 483
        },
        "id": "UiRG0BBY0Ife",
        "outputId": "612d3738-6fa9-42f6-bb85-cad477197fa9"
      },
      "outputs": [
        {
          "output_type": "execute_result",
          "data": {
            "text/plain": [
              "<matplotlib.axes._subplots.AxesSubplot at 0x7fc439aed310>"
            ]
          },
          "metadata": {},
          "execution_count": 20
        },
        {
          "output_type": "display_data",
          "data": {
            "text/plain": [
              "<Figure size 576x576 with 1 Axes>"
            ],
            "image/png": "[encoded data removed]"
          },
          "metadata": {}
        }
      ],
      "source": [
        "df.event_type.value_counts().plot(kind='pie',figsize = (8,8))"
      ]
    },
    {
      "cell_type": "markdown",
      "metadata": {
        "id": "rbdPuQTM0Ife"
      },
      "source": [
        "Pengunjung web yang melakukan purchase sangat sedikit jika dibandingkan dengan yang melihat-lihat saja. Begitu pula dengan produk yang dimasukkan kedalam keranjang."
      ]
    },
    {
      "cell_type": "markdown",
      "metadata": {
        "id": "lFA9Enaq0Ife"
      },
      "source": [
        "# Penjualan dari waktu ke waktu"
      ]
    },
    {
      "cell_type": "code",
      "execution_count": 21,
      "metadata": {
        "id": "uSKjpEp40Iff"
      },
      "outputs": [],
      "source": [
        "#merubah kolom pertama menjadi format datetime\n",
        "df['event_time'] = pd.to_datetime(df[\"event_time\"])\n",
        "df['event_date'] = df.event_time.dt.date\n",
        "df['event_year'] = df.event_time.dt.year\n",
        "df['event_month'] = df.event_time.dt.month\n",
        "df['event_day'] = df.event_time.dt.day"
      ]
    },
    {
      "cell_type": "code",
      "execution_count": 22,
      "metadata": {
        "colab": {
          "base_uri": "https://localhost:8080/",
          "height": 297
        },
        "id": "mK0WWYim0Iff",
        "outputId": "a44a2e05-3170-4496-fa0a-1f7579b4311f"
      },
      "outputs": [
        {
          "output_type": "execute_result",
          "data": {
            "text/plain": [
              "<matplotlib.axes._subplots.AxesSubplot at 0x7fc42d610ed0>"
            ]
          },
          "metadata": {},
          "execution_count": 22
        },
        {
          "output_type": "display_data",
          "data": {
            "text/plain": [
              "<Figure size 432x288 with 1 Axes>"
            ],
            "image/png": "[encoded data removed]"
          },
          "metadata": {
            "needs_background": "light"
          }
        }
      ],
      "source": [
        "sns.barplot(x = 'event_month',y = 'price',data=df, order=[9,10,11,12,1,2])"
      ]
    },
    {
      "cell_type": "markdown",
      "metadata": {
        "id": "hSmk_lMa0Iff"
      },
      "source": [
        "harga barang mengalami tren positif setiap bulannya (dari sep 2020 - feb 2021)"
      ]
    },
    {
      "cell_type": "code",
      "execution_count": 23,
      "metadata": {
        "id": "iCEiLjyB0Ifg"
      },
      "outputs": [],
      "source": [
        "df_purchase = df[df.event_type==\"purchase\"]\n",
        "df_view= df[df.event_type==\"view\"]\n",
        "df_cart= df[df.event_type==\"cart\"]"
      ]
    },
    {
      "cell_type": "code",
      "execution_count": 24,
      "metadata": {
        "colab": {
          "base_uri": "https://localhost:8080/",
          "height": 335
        },
        "id": "GwSlnBAu0Ifg",
        "outputId": "82f97f56-096c-4b2e-bd36-3c0ff0392dc1"
      },
      "outputs": [
        {
          "output_type": "display_data",
          "data": {
            "text/plain": [
              "<Figure size 1440x360 with 3 Axes>"
            ],
            "image/png": "[encoded data removed]"
          },
          "metadata": {
            "needs_background": "light"
          }
        }
      ],
      "source": [
        "f,ax = plt.subplots(ncols=3, figsize=(20,5))\n",
        "sns.barplot(x = 'event_month',y = 'price',data=df_purchase, order=[9,10,11,12,1,2],ax=ax[0])\n",
        "ax[0].set_title('Produk terjual')\n",
        "sns.barplot(x = 'event_month',y = 'price',data=df_view, order=[9,10,11,12,1,2],ax=ax[1])\n",
        "ax[1].set_title('Produk Dilihat')\n",
        "sns.barplot(x = 'event_month',y = 'price',data=df_cart, order=[9,10,11,12,1,2],ax=ax[2])\n",
        "ax[2].set_title('Masuk ke keranjang')\n",
        "plt.show()"
      ]
    },
    {
      "cell_type": "markdown",
      "metadata": {
        "id": "mCZbqoXc0Ifg"
      },
      "source": [
        "rata-rata penjualan produk tiap bulannya mengalami tren positif, terjadi kenaikan secara signifikan dari awal hingga akhir bulan. Penjualan tertinggi berada pada bulan februari 2021 untuk produk yang terjual. Sedangkan rata-rata Produk yang hanya dilihat dan masuk dalam keranjang tertingginya berada di bulan januari 2021."
      ]
    },
    {
      "cell_type": "code",
      "execution_count": 25,
      "metadata": {
        "colab": {
          "base_uri": "https://localhost:8080/",
          "height": 300
        },
        "id": "Hfn54Jkd0Ifh",
        "outputId": "175ce64c-a246-47b5-b0a3-6e7054014538"
      },
      "outputs": [
        {
          "output_type": "execute_result",
          "data": {
            "text/plain": [
              "                  price            \n",
              "                    sum        mean\n",
              "event_month                        \n",
              "1            1488410.57  179.003075\n",
              "2            1376805.70  180.163007\n",
              "9              96353.01   95.683227\n",
              "10            562590.39   89.641554\n",
              "11            787886.24  104.025118\n",
              "12            813068.01  124.531783"
            ],
            "text/html": [
              "\n",
              "  <div id=\"df-1bc54c4f-2bdc-443e-aa14-ebe6a9163d60\">\n",
              "    <div class=\"colab-df-container\">\n",
              "      <div>\n",
              "<style scoped>\n",
              "    .dataframe tbody tr th:only-of-type {\n",
              "        vertical-align: middle;\n",
              "    }\n",
              "\n",
              "    .dataframe tbody tr th {\n",
              "        vertical-align: top;\n",
              "    }\n",
              "\n",
              "    .dataframe thead tr th {\n",
              "        text-align: left;\n",
              "    }\n",
              "\n",
              "    .dataframe thead tr:last-of-type th {\n",
              "        text-align: right;\n",
              "    }\n",
              "</style>\n",
              "<table border=\"1\" class=\"dataframe\">\n",
              "  <thead>\n",
              "    <tr>\n",
              "      <th></th>\n",
              "      <th colspan=\"2\" halign=\"left\">price</th>\n",
              "    </tr>\n",
              "    <tr>\n",
              "      <th></th>\n",
              "      <th>sum</th>\n",
              "      <th>mean</th>\n",
              "    </tr>\n",
              "    <tr>\n",
              "      <th>event_month</th>\n",
              "      <th></th>\n",
              "      <th></th>\n",
              "    </tr>\n",
              "  </thead>\n",
              "  <tbody>\n",
              "    <tr>\n",
              "      <th>1</th>\n",
              "      <td>1488410.57</td>\n",
              "      <td>179.003075</td>\n",
              "    </tr>\n",
              "    <tr>\n",
              "      <th>2</th>\n",
              "      <td>1376805.70</td>\n",
              "      <td>180.163007</td>\n",
              "    </tr>\n",
              "    <tr>\n",
              "      <th>9</th>\n",
              "      <td>96353.01</td>\n",
              "      <td>95.683227</td>\n",
              "    </tr>\n",
              "    <tr>\n",
              "      <th>10</th>\n",
              "      <td>562590.39</td>\n",
              "      <td>89.641554</td>\n",
              "    </tr>\n",
              "    <tr>\n",
              "      <th>11</th>\n",
              "      <td>787886.24</td>\n",
              "      <td>104.025118</td>\n",
              "    </tr>\n",
              "    <tr>\n",
              "      <th>12</th>\n",
              "      <td>813068.01</td>\n",
              "      <td>124.531783</td>\n",
              "    </tr>\n",
              "  </tbody>\n",
              "</table>\n",
              "</div>\n",
              "      <button class=\"colab-df-convert\" onclick=\"convertToInteractive('df-1bc54c4f-2bdc-443e-aa14-ebe6a9163d60')\"\n",
              "              title=\"Convert this dataframe to an interactive table.\"\n",
              "              style=\"display:none;\">\n",
              "        \n",
              "  <svg xmlns=\"http://www.w3.org/2000/svg\" height=\"24px\"viewBox=\"0 0 24 24\"\n",
              "       width=\"24px\">\n",
              "    <path d=\"M0 0h24v24H0V0z\" fill=\"none\"/>\n",
              "    <path d=\"M18.56 5.44l.94 2.06.94-2.06 2.06-.94-2.06-.94-.94-2.06-.94 2.06-2.06.94zm-11 1L8.5 8.5l.94-2.06 2.06-.94-2.06-.94L8.5 2.5l-.94 2.06-2.06.94zm10 10l.94 2.06.94-2.06 2.06-.94-2.06-.94-.94-2.06-.94 2.06-2.06.94z\"/><path d=\"M17.41 7.96l-1.37-1.37c-.4-.4-.92-.59-1.43-.59-.52 0-1.04.2-1.43.59L10.3 9.45l-7.72 7.72c-.78.78-.78 2.05 0 2.83L4 21.41c.39.39.9.59 1.41.59.51 0 1.02-.2 1.41-.59l7.78-7.78 2.81-2.81c.8-.78.8-2.07 0-2.86zM5.41 20L4 18.59l7.72-7.72 1.47 1.35L5.41 20z\"/>\n",
              "  </svg>\n",
              "      </button>\n",
              "      \n",
              "  <style>\n",
              "    .colab-df-container {\n",
              "      display:flex;\n",
              "      flex-wrap:wrap;\n",
              "      gap: 12px;\n",
              "    }\n",
              "\n",
              "    .colab-df-convert {\n",
              "      background-color: #E8F0FE;\n",
              "      border: none;\n",
              "      border-radius: 50%;\n",
              "      cursor: pointer;\n",
              "      display: none;\n",
              "      fill: #1967D2;\n",
              "      height: 32px;\n",
              "      padding: 0 0 0 0;\n",
              "      width: 32px;\n",
              "    }\n",
              "\n",
              "    .colab-df-convert:hover {\n",
              "      background-color: #E2EBFA;\n",
              "      box-shadow: 0px 1px 2px rgba(60, 64, 67, 0.3), 0px 1px 3px 1px rgba(60, 64, 67, 0.15);\n",
              "      fill: #174EA6;\n",
              "    }\n",
              "\n",
              "    [theme=dark] .colab-df-convert {\n",
              "      background-color: #3B4455;\n",
              "      fill: #D2E3FC;\n",
              "    }\n",
              "\n",
              "    [theme=dark] .colab-df-convert:hover {\n",
              "      background-color: #434B5C;\n",
              "      box-shadow: 0px 1px 3px 1px rgba(0, 0, 0, 0.15);\n",
              "      filter: drop-shadow(0px 1px 2px rgba(0, 0, 0, 0.3));\n",
              "      fill: #FFFFFF;\n",
              "    }\n",
              "  </style>\n",
              "\n",
              "      <script>\n",
              "        const buttonEl =\n",
              "          document.querySelector('#df-1bc54c4f-2bdc-443e-aa14-ebe6a9163d60 button.colab-df-convert');\n",
              "        buttonEl.style.display =\n",
              "          google.colab.kernel.accessAllowed ? 'block' : 'none';\n",
              "\n",
              "        async function convertToInteractive(key) {\n",
              "          const element = document.querySelector('#df-1bc54c4f-2bdc-443e-aa14-ebe6a9163d60');\n",
              "          const dataTable =\n",
              "            await google.colab.kernel.invokeFunction('convertToInteractive',\n",
              "                                                     [key], {});\n",
              "          if (!dataTable) return;\n",
              "\n",
              "          const docLinkHtml = 'Like what you see? Visit the ' +\n",
              "            '<a target=\"_blank\" href=https://colab.research.google.com/notebooks/data_table.ipynb>data table notebook</a>'\n",
              "            + ' to learn more about interactive tables.';\n",
              "          element.innerHTML = '';\n",
              "          dataTable['output_type'] = 'display_data';\n",
              "          await google.colab.output.renderOutput(dataTable, element);\n",
              "          const docLink = document.createElement('div');\n",
              "          docLink.innerHTML = docLinkHtml;\n",
              "          element.appendChild(docLink);\n",
              "        }\n",
              "      </script>\n",
              "    </div>\n",
              "  </div>\n",
              "  "
            ]
          },
          "metadata": {},
          "execution_count": 25
        }
      ],
      "source": [
        "df_purchase[['event_month','price']].groupby(\"event_month\").agg([\"sum\",'mean'])"
      ]
    },
    {
      "cell_type": "markdown",
      "metadata": {
        "id": "dbSVHVPZ0Ifh"
      },
      "source": [
        "# Data Preprocessing"
      ]
    },
    {
      "cell_type": "markdown",
      "metadata": {
        "id": "Gr_qFdhJ0Ifh"
      },
      "source": [
        "## Handling Missing Value"
      ]
    },
    {
      "cell_type": "code",
      "execution_count": 26,
      "metadata": {
        "colab": {
          "base_uri": "https://localhost:8080/"
        },
        "id": "iHxYzn2F0Ifi",
        "outputId": "74594a81-1a2d-44d9-ff7d-80ba35972a34"
      },
      "outputs": [
        {
          "output_type": "execute_result",
          "data": {
            "text/plain": [
              "event_time            0\n",
              "event_type            0\n",
              "product_id            0\n",
              "category_id           0\n",
              "category_code    236047\n",
              "brand            212232\n",
              "price                 0\n",
              "user_id               0\n",
              "user_session        162\n",
              "event_date            0\n",
              "event_year            0\n",
              "event_month           0\n",
              "event_day             0\n",
              "dtype: int64"
            ]
          },
          "metadata": {},
          "execution_count": 26
        }
      ],
      "source": [
        "df.isnull().sum()"
      ]
    },
    {
      "cell_type": "code",
      "execution_count": 27,
      "metadata": {
        "colab": {
          "base_uri": "https://localhost:8080/"
        },
        "id": "Xg25_lue0Ifi",
        "outputId": "08196349-bd0f-4140-f073-a84f02fa03c9"
      },
      "outputs": [
        {
          "output_type": "execute_result",
          "data": {
            "text/plain": [
              "0.00018315970848210348"
            ]
          },
          "metadata": {},
          "execution_count": 27
        }
      ],
      "source": [
        "162/df.shape[0]"
      ]
    },
    {
      "cell_type": "markdown",
      "metadata": {
        "id": "a4e3S0Cp0Ifi"
      },
      "source": [
        "Missing Value pada fitur user_session sekitar 0.01% dari dataset sehingga akan dilakukan penghapusan data yang missing pada user_session. Namun untuk fitur category code dan brand missing value >20% sehingga diperlukan kajian lebih dalam mengenai sifat missing value disini apakah MNAR, MCAR atau MAR."
      ]
    },
    {
      "cell_type": "markdown",
      "metadata": {
        "id": "2l8S5KyI0Ifi"
      },
      "source": [
        "### Drop Missing Value Pada `user_session`"
      ]
    },
    {
      "cell_type": "code",
      "execution_count": 28,
      "metadata": {
        "colab": {
          "base_uri": "https://localhost:8080/"
        },
        "id": "2zY8C-9Q0Ifi",
        "outputId": "c3d37475-a9cf-4edd-f9a2-31410f76a981"
      },
      "outputs": [
        {
          "output_type": "execute_result",
          "data": {
            "text/plain": [
              "Int64Index([  2257,   6872,   7898,  11782,  24461,  28431,  29688,  32660,\n",
              "             36283,  48462,\n",
              "            ...\n",
              "            709335, 709352, 709354, 788036, 791602, 796271, 808622, 808625,\n",
              "            808626, 826870],\n",
              "           dtype='int64', length=162)"
            ]
          },
          "metadata": {},
          "execution_count": 28
        }
      ],
      "source": [
        "df[df.user_session.isnull()==True].index"
      ]
    },
    {
      "cell_type": "code",
      "execution_count": 29,
      "metadata": {
        "id": "4uh8aA7t0Ifj"
      },
      "outputs": [],
      "source": [
        "# drop missing value pada fitur user_session\n",
        "df.drop(df[df.user_session.isnull()==True].index, axis=0,inplace=True)"
      ]
    },
    {
      "cell_type": "code",
      "execution_count": 30,
      "metadata": {
        "colab": {
          "base_uri": "https://localhost:8080/",
          "height": 661
        },
        "id": "Vhwmw05m0Ifj",
        "outputId": "e348f5e4-1f24-423a-9bcd-c39ec0ceb66c"
      },
      "outputs": [
        {
          "output_type": "execute_result",
          "data": {
            "text/plain": [
              "                      event_time event_type  product_id          category_id  \\\n",
              "0      2020-09-24 11:57:06+00:00       view     1996170  2144415922528452715   \n",
              "1      2020-09-24 11:57:26+00:00       view      139905  2144415926932472027   \n",
              "2      2020-09-24 11:57:27+00:00       view      215454  2144415927158964449   \n",
              "3      2020-09-24 11:57:33+00:00       view      635807  2144415923107266682   \n",
              "4      2020-09-24 11:57:36+00:00       view     3658723  2144415921169498184   \n",
              "...                          ...        ...         ...                  ...   \n",
              "885124 2021-02-28 23:55:01+00:00       view      953226  2144415927553229037   \n",
              "885125 2021-02-28 23:58:05+00:00       view     1715907  2144415927049912542   \n",
              "885126 2021-02-28 23:58:09+00:00       view     4170534  2144415939364389423   \n",
              "885127 2021-02-28 23:58:14+00:00       view      888273  2144415921932861531   \n",
              "885128 2021-02-28 23:59:09+00:00       view      743182  2144415935631458761   \n",
              "\n",
              "                        category_code        brand   price  \\\n",
              "0               electronics.telephone          NaN   31.90   \n",
              "1         computers.components.cooler       zalman   17.16   \n",
              "2                                 NaN          NaN    9.81   \n",
              "3       computers.peripherals.printer       pantum  113.81   \n",
              "4                                 NaN  cameronsino   15.87   \n",
              "...                               ...          ...     ...   \n",
              "885124                            NaN          NaN  219.94   \n",
              "885125           electronics.video.tv     starwind   80.03   \n",
              "885126             electronics.clocks      amazfit   64.92   \n",
              "885127          electronics.telephone          NaN   10.16   \n",
              "885128   construction.tools.soldering         kada   65.08   \n",
              "\n",
              "                    user_id user_session  event_date  event_year  event_month  \\\n",
              "0       1515915625519388267   LJuJVLEjPT  2020-09-24        2020            9   \n",
              "1       1515915625519380411   tdicluNnRY  2020-09-24        2020            9   \n",
              "2       1515915625513238515   4TMArHtXQy  2020-09-24        2020            9   \n",
              "3       1515915625519014356   aGFYrNgC08  2020-09-24        2020            9   \n",
              "4       1515915625510743344   aa4mmk0kwQ  2020-09-24        2020            9   \n",
              "...                     ...          ...         ...         ...          ...   \n",
              "885124  1515915625611023730   FRLqIttxKU  2021-02-28        2021            2   \n",
              "885125  1515915625611024014   g6WqPf50Ma  2021-02-28        2021            2   \n",
              "885126  1515915625611024020   xNIJBqZdkd  2021-02-28        2021            2   \n",
              "885127  1515915625611024030   9pCbKMIcSx  2021-02-28        2021            2   \n",
              "885128  1515915625556087775   BejOXRngEW  2021-02-28        2021            2   \n",
              "\n",
              "        event_day  \n",
              "0              24  \n",
              "1              24  \n",
              "2              24  \n",
              "3              24  \n",
              "4              24  \n",
              "...           ...  \n",
              "885124         28  \n",
              "885125         28  \n",
              "885126         28  \n",
              "885127         28  \n",
              "885128         28  \n",
              "\n",
              "[884312 rows x 13 columns]"
            ],
            "text/html": [
              "\n",
              "  <div id=\"df-602d18a3-66d0-455f-ad51-0e60ef24445a\">\n",
              "    <div class=\"colab-df-container\">\n",
              "      <div>\n",
              "<style scoped>\n",
              "    .dataframe tbody tr th:only-of-type {\n",
              "        vertical-align: middle;\n",
              "    }\n",
              "\n",
              "    .dataframe tbody tr th {\n",
              "        vertical-align: top;\n",
              "    }\n",
              "\n",
              "    .dataframe thead th {\n",
              "        text-align: right;\n",
              "    }\n",
              "</style>\n",
              "<table border=\"1\" class=\"dataframe\">\n",
              "  <thead>\n",
              "    <tr style=\"text-align: right;\">\n",
              "      <th></th>\n",
              "      <th>event_time</th>\n",
              "      <th>event_type</th>\n",
              "      <th>product_id</th>\n",
              "      <th>category_id</th>\n",
              "      <th>category_code</th>\n",
              "      <th>brand</th>\n",
              "      <th>price</th>\n",
              "      <th>user_id</th>\n",
              "      <th>user_session</th>\n",
              "      <th>event_date</th>\n",
              "      <th>event_year</th>\n",
              "      <th>event_month</th>\n",
              "      <th>event_day</th>\n",
              "    </tr>\n",
              "  </thead>\n",
              "  <tbody>\n",
              "    <tr>\n",
              "      <th>0</th>\n",
              "      <td>2020-09-24 11:57:06+00:00</td>\n",
              "      <td>view</td>\n",
              "      <td>1996170</td>\n",
              "      <td>2144415922528452715</td>\n",
              "      <td>electronics.telephone</td>\n",
              "      <td>NaN</td>\n",
              "      <td>31.90</td>\n",
              "      <td>1515915625519388267</td>\n",
              "      <td>LJuJVLEjPT</td>\n",
              "      <td>2020-09-24</td>\n",
              "      <td>2020</td>\n",
              "      <td>9</td>\n",
              "      <td>24</td>\n",
              "    </tr>\n",
              "    <tr>\n",
              "      <th>1</th>\n",
              "      <td>2020-09-24 11:57:26+00:00</td>\n",
              "      <td>view</td>\n",
              "      <td>139905</td>\n",
              "      <td>2144415926932472027</td>\n",
              "      <td>computers.components.cooler</td>\n",
              "      <td>zalman</td>\n",
              "      <td>17.16</td>\n",
              "      <td>1515915625519380411</td>\n",
              "      <td>tdicluNnRY</td>\n",
              "      <td>2020-09-24</td>\n",
              "      <td>2020</td>\n",
              "      <td>9</td>\n",
              "      <td>24</td>\n",
              "    </tr>\n",
              "    <tr>\n",
              "      <th>2</th>\n",
              "      <td>2020-09-24 11:57:27+00:00</td>\n",
              "      <td>view</td>\n",
              "      <td>215454</td>\n",
              "      <td>2144415927158964449</td>\n",
              "      <td>NaN</td>\n",
              "      <td>NaN</td>\n",
              "      <td>9.81</td>\n",
              "      <td>1515915625513238515</td>\n",
              "      <td>4TMArHtXQy</td>\n",
              "      <td>2020-09-24</td>\n",
              "      <td>2020</td>\n",
              "      <td>9</td>\n",
              "      <td>24</td>\n",
              "    </tr>\n",
              "    <tr>\n",
              "      <th>3</th>\n",
              "      <td>2020-09-24 11:57:33+00:00</td>\n",
              "      <td>view</td>\n",
              "      <td>635807</td>\n",
              "      <td>2144415923107266682</td>\n",
              "      <td>computers.peripherals.printer</td>\n",
              "      <td>pantum</td>\n",
              "      <td>113.81</td>\n",
              "      <td>1515915625519014356</td>\n",
              "      <td>aGFYrNgC08</td>\n",
              "      <td>2020-09-24</td>\n",
              "      <td>2020</td>\n",
              "      <td>9</td>\n",
              "      <td>24</td>\n",
              "    </tr>\n",
              "    <tr>\n",
              "      <th>4</th>\n",
              "      <td>2020-09-24 11:57:36+00:00</td>\n",
              "      <td>view</td>\n",
              "      <td>3658723</td>\n",
              "      <td>2144415921169498184</td>\n",
              "      <td>NaN</td>\n",
              "      <td>cameronsino</td>\n",
              "      <td>15.87</td>\n",
              "      <td>1515915625510743344</td>\n",
              "      <td>aa4mmk0kwQ</td>\n",
              "      <td>2020-09-24</td>\n",
              "      <td>2020</td>\n",
              "      <td>9</td>\n",
              "      <td>24</td>\n",
              "    </tr>\n",
              "    <tr>\n",
              "      <th>...</th>\n",
              "      <td>...</td>\n",
              "      <td>...</td>\n",
              "      <td>...</td>\n",
              "      <td>...</td>\n",
              "      <td>...</td>\n",
              "      <td>...</td>\n",
              "      <td>...</td>\n",
              "      <td>...</td>\n",
              "      <td>...</td>\n",
              "      <td>...</td>\n",
              "      <td>...</td>\n",
              "      <td>...</td>\n",
              "      <td>...</td>\n",
              "    </tr>\n",
              "    <tr>\n",
              "      <th>885124</th>\n",
              "      <td>2021-02-28 23:55:01+00:00</td>\n",
              "      <td>view</td>\n",
              "      <td>953226</td>\n",
              "      <td>2144415927553229037</td>\n",
              "      <td>NaN</td>\n",
              "      <td>NaN</td>\n",
              "      <td>219.94</td>\n",
              "      <td>1515915625611023730</td>\n",
              "      <td>FRLqIttxKU</td>\n",
              "      <td>2021-02-28</td>\n",
              "      <td>2021</td>\n",
              "      <td>2</td>\n",
              "      <td>28</td>\n",
              "    </tr>\n",
              "    <tr>\n",
              "      <th>885125</th>\n",
              "      <td>2021-02-28 23:58:05+00:00</td>\n",
              "      <td>view</td>\n",
              "      <td>1715907</td>\n",
              "      <td>2144415927049912542</td>\n",
              "      <td>electronics.video.tv</td>\n",
              "      <td>starwind</td>\n",
              "      <td>80.03</td>\n",
              "      <td>1515915625611024014</td>\n",
              "      <td>g6WqPf50Ma</td>\n",
              "      <td>2021-02-28</td>\n",
              "      <td>2021</td>\n",
              "      <td>2</td>\n",
              "      <td>28</td>\n",
              "    </tr>\n",
              "    <tr>\n",
              "      <th>885126</th>\n",
              "      <td>2021-02-28 23:58:09+00:00</td>\n",
              "      <td>view</td>\n",
              "      <td>4170534</td>\n",
              "      <td>2144415939364389423</td>\n",
              "      <td>electronics.clocks</td>\n",
              "      <td>amazfit</td>\n",
              "      <td>64.92</td>\n",
              "      <td>1515915625611024020</td>\n",
              "      <td>xNIJBqZdkd</td>\n",
              "      <td>2021-02-28</td>\n",
              "      <td>2021</td>\n",
              "      <td>2</td>\n",
              "      <td>28</td>\n",
              "    </tr>\n",
              "    <tr>\n",
              "      <th>885127</th>\n",
              "      <td>2021-02-28 23:58:14+00:00</td>\n",
              "      <td>view</td>\n",
              "      <td>888273</td>\n",
              "      <td>2144415921932861531</td>\n",
              "      <td>electronics.telephone</td>\n",
              "      <td>NaN</td>\n",
              "      <td>10.16</td>\n",
              "      <td>1515915625611024030</td>\n",
              "      <td>9pCbKMIcSx</td>\n",
              "      <td>2021-02-28</td>\n",
              "      <td>2021</td>\n",
              "      <td>2</td>\n",
              "      <td>28</td>\n",
              "    </tr>\n",
              "    <tr>\n",
              "      <th>885128</th>\n",
              "      <td>2021-02-28 23:59:09+00:00</td>\n",
              "      <td>view</td>\n",
              "      <td>743182</td>\n",
              "      <td>2144415935631458761</td>\n",
              "      <td>construction.tools.soldering</td>\n",
              "      <td>kada</td>\n",
              "      <td>65.08</td>\n",
              "      <td>1515915625556087775</td>\n",
              "      <td>BejOXRngEW</td>\n",
              "      <td>2021-02-28</td>\n",
              "      <td>2021</td>\n",
              "      <td>2</td>\n",
              "      <td>28</td>\n",
              "    </tr>\n",
              "  </tbody>\n",
              "</table>\n",
              "<p>884312 rows × 13 columns</p>\n",
              "</div>\n",
              "      <button class=\"colab-df-convert\" onclick=\"convertToInteractive('df-602d18a3-66d0-455f-ad51-0e60ef24445a')\"\n",
              "              title=\"Convert this dataframe to an interactive table.\"\n",
              "              style=\"display:none;\">\n",
              "        \n",
              "  <svg xmlns=\"http://www.w3.org/2000/svg\" height=\"24px\"viewBox=\"0 0 24 24\"\n",
              "       width=\"24px\">\n",
              "    <path d=\"M0 0h24v24H0V0z\" fill=\"none\"/>\n",
              "    <path d=\"M18.56 5.44l.94 2.06.94-2.06 2.06-.94-2.06-.94-.94-2.06-.94 2.06-2.06.94zm-11 1L8.5 8.5l.94-2.06 2.06-.94-2.06-.94L8.5 2.5l-.94 2.06-2.06.94zm10 10l.94 2.06.94-2.06 2.06-.94-2.06-.94-.94-2.06-.94 2.06-2.06.94z\"/><path d=\"M17.41 7.96l-1.37-1.37c-.4-.4-.92-.59-1.43-.59-.52 0-1.04.2-1.43.59L10.3 9.45l-7.72 7.72c-.78.78-.78 2.05 0 2.83L4 21.41c.39.39.9.59 1.41.59.51 0 1.02-.2 1.41-.59l7.78-7.78 2.81-2.81c.8-.78.8-2.07 0-2.86zM5.41 20L4 18.59l7.72-7.72 1.47 1.35L5.41 20z\"/>\n",
              "  </svg>\n",
              "      </button>\n",
              "      \n",
              "  <style>\n",
              "    .colab-df-container {\n",
              "      display:flex;\n",
              "      flex-wrap:wrap;\n",
              "      gap: 12px;\n",
              "    }\n",
              "\n",
              "    .colab-df-convert {\n",
              "      background-color: #E8F0FE;\n",
              "      border: none;\n",
              "      border-radius: 50%;\n",
              "      cursor: pointer;\n",
              "      display: none;\n",
              "      fill: #1967D2;\n",
              "      height: 32px;\n",
              "      padding: 0 0 0 0;\n",
              "      width: 32px;\n",
              "    }\n",
              "\n",
              "    .colab-df-convert:hover {\n",
              "      background-color: #E2EBFA;\n",
              "      box-shadow: 0px 1px 2px rgba(60, 64, 67, 0.3), 0px 1px 3px 1px rgba(60, 64, 67, 0.15);\n",
              "      fill: #174EA6;\n",
              "    }\n",
              "\n",
              "    [theme=dark] .colab-df-convert {\n",
              "      background-color: #3B4455;\n",
              "      fill: #D2E3FC;\n",
              "    }\n",
              "\n",
              "    [theme=dark] .colab-df-convert:hover {\n",
              "      background-color: #434B5C;\n",
              "      box-shadow: 0px 1px 3px 1px rgba(0, 0, 0, 0.15);\n",
              "      filter: drop-shadow(0px 1px 2px rgba(0, 0, 0, 0.3));\n",
              "      fill: #FFFFFF;\n",
              "    }\n",
              "  </style>\n",
              "\n",
              "      <script>\n",
              "        const buttonEl =\n",
              "          document.querySelector('#df-602d18a3-66d0-455f-ad51-0e60ef24445a button.colab-df-convert');\n",
              "        buttonEl.style.display =\n",
              "          google.colab.kernel.accessAllowed ? 'block' : 'none';\n",
              "\n",
              "        async function convertToInteractive(key) {\n",
              "          const element = document.querySelector('#df-602d18a3-66d0-455f-ad51-0e60ef24445a');\n",
              "          const dataTable =\n",
              "            await google.colab.kernel.invokeFunction('convertToInteractive',\n",
              "                                                     [key], {});\n",
              "          if (!dataTable) return;\n",
              "\n",
              "          const docLinkHtml = 'Like what you see? Visit the ' +\n",
              "            '<a target=\"_blank\" href=https://colab.research.google.com/notebooks/data_table.ipynb>data table notebook</a>'\n",
              "            + ' to learn more about interactive tables.';\n",
              "          element.innerHTML = '';\n",
              "          dataTable['output_type'] = 'display_data';\n",
              "          await google.colab.output.renderOutput(dataTable, element);\n",
              "          const docLink = document.createElement('div');\n",
              "          docLink.innerHTML = docLinkHtml;\n",
              "          element.appendChild(docLink);\n",
              "        }\n",
              "      </script>\n",
              "    </div>\n",
              "  </div>\n",
              "  "
            ]
          },
          "metadata": {},
          "execution_count": 30
        }
      ],
      "source": [
        "df"
      ]
    },
    {
      "cell_type": "markdown",
      "metadata": {
        "id": "sVtnoGMx0Ifj"
      },
      "source": [
        "jumlah data berkurang menjadi 884312 baris"
      ]
    },
    {
      "cell_type": "markdown",
      "metadata": {
        "id": "ijsBUfPp0Ifj"
      },
      "source": [
        "### Missing Value >20%"
      ]
    },
    {
      "cell_type": "code",
      "execution_count": 31,
      "metadata": {
        "colab": {
          "base_uri": "https://localhost:8080/"
        },
        "id": "m6yiRXuJ0Ifj",
        "outputId": "d953c6f8-6c3a-4d29-c70f-bcf732ead683"
      },
      "outputs": [
        {
          "output_type": "execute_result",
          "data": {
            "text/plain": [
              "event_time            0\n",
              "event_type            0\n",
              "product_id            0\n",
              "category_id           0\n",
              "category_code    236001\n",
              "brand            212194\n",
              "price                 0\n",
              "user_id               0\n",
              "user_session          0\n",
              "event_date            0\n",
              "event_year            0\n",
              "event_month           0\n",
              "event_day             0\n",
              "dtype: int64"
            ]
          },
          "metadata": {},
          "execution_count": 31
        }
      ],
      "source": [
        "df.isnull().sum()"
      ]
    },
    {
      "cell_type": "code",
      "execution_count": 32,
      "metadata": {
        "colab": {
          "base_uri": "https://localhost:8080/"
        },
        "id": "8rl-44xe0Ifk",
        "outputId": "fa70f439-22bf-4c7a-88d1-730e0479cf84"
      },
      "outputs": [
        {
          "output_type": "stream",
          "name": "stdout",
          "text": [
            "0.09016953292503098\n",
            "0.14978423904685223\n",
            "0.17670573281828134\n"
          ]
        }
      ],
      "source": [
        "print(df[(df.category_code.isnull()==True)& (df.brand.isnull()==True)].shape[0]/df.shape[0])\n",
        "print(df[(df.category_code.isnull()==False)& (df.brand.isnull()==True)].shape[0]/df.shape[0])\n",
        "print(df[(df.category_code.isnull()==True)& (df.brand.isnull()==False)].shape[0]/df.shape[0])"
      ]
    },
    {
      "cell_type": "markdown",
      "metadata": {
        "id": "NcmWMv3A0Ifk"
      },
      "source": [
        "Missing value pada kedua fitur adalah 9% dan pada masing-masing fitur berkisar 14-17% sehingga untuk yang terdapat NaN pada kedua fitur akan dilakukan drop data, sedangkan untuk missing value pada masing-masing fitur akan dilakukan input silang."
      ]
    },
    {
      "cell_type": "code",
      "execution_count": 33,
      "metadata": {
        "id": "RHOzB0K10Ifk"
      },
      "outputs": [],
      "source": [
        "# drop values yang kosong pada kedua fitur\n",
        "df.drop(df[(df.category_code.isnull()==True)& (df.brand.isnull()==True)].index,axis=0, inplace=True)"
      ]
    },
    {
      "cell_type": "code",
      "execution_count": 34,
      "metadata": {
        "colab": {
          "base_uri": "https://localhost:8080/"
        },
        "id": "a9gDC5lG0Ifk",
        "outputId": "8f0ac871-1591-46a9-fde2-f2ce81e72aad"
      },
      "outputs": [
        {
          "output_type": "execute_result",
          "data": {
            "text/plain": [
              "event_time            0\n",
              "event_type            0\n",
              "product_id            0\n",
              "category_id           0\n",
              "category_code    156263\n",
              "brand            132456\n",
              "price                 0\n",
              "user_id               0\n",
              "user_session          0\n",
              "event_date            0\n",
              "event_year            0\n",
              "event_month           0\n",
              "event_day             0\n",
              "dtype: int64"
            ]
          },
          "metadata": {},
          "execution_count": 34
        }
      ],
      "source": [
        "df.isnull().sum()"
      ]
    },
    {
      "cell_type": "code",
      "execution_count": 35,
      "metadata": {
        "id": "LdaiY4DT0Ifk"
      },
      "outputs": [],
      "source": [
        "# cross-filling\n",
        "df['category_code'].fillna(value = df[df.category_code.isnull()==True]['brand'],inplace = True)\n",
        "df.brand.fillna(value = df[df.brand.isnull()==True]['category_code'],inplace=True)"
      ]
    },
    {
      "cell_type": "code",
      "execution_count": 36,
      "metadata": {
        "colab": {
          "base_uri": "https://localhost:8080/"
        },
        "id": "aSqy0PqP0Ifk",
        "outputId": "534a10d4-097e-448c-9579-accd8cbf36b6"
      },
      "outputs": [
        {
          "output_type": "execute_result",
          "data": {
            "text/plain": [
              "event_time       0\n",
              "event_type       0\n",
              "product_id       0\n",
              "category_id      0\n",
              "category_code    0\n",
              "brand            0\n",
              "price            0\n",
              "user_id          0\n",
              "user_session     0\n",
              "event_date       0\n",
              "event_year       0\n",
              "event_month      0\n",
              "event_day        0\n",
              "dtype: int64"
            ]
          },
          "metadata": {},
          "execution_count": 36
        }
      ],
      "source": [
        "df.isnull().sum()"
      ]
    },
    {
      "cell_type": "markdown",
      "metadata": {
        "id": "_zZgbixG0Ifl"
      },
      "source": [
        "Sekarang dataset sudah bersih dari missing values"
      ]
    },
    {
      "cell_type": "markdown",
      "metadata": {
        "id": "ErsEQW_90Ifl"
      },
      "source": [
        "## Handling Outliers"
      ]
    },
    {
      "cell_type": "markdown",
      "metadata": {
        "id": "J4oFRfgl0Ifl"
      },
      "source": [
        "Cara mudah mendeteksi outlier adalah dengan melakukan visualisasi dengan boxplot. Pada dataset ini, terdapat fitur numerik yaitu `price`. Beberapa tipe data numerik lainnya seperti tanggal dan id tidak akan dicek outliernya karena tidak digunakan dalam perhitungan model."
      ]
    },
    {
      "cell_type": "code",
      "execution_count": 37,
      "metadata": {
        "colab": {
          "base_uri": "https://localhost:8080/",
          "height": 282
        },
        "id": "tbOH70qP0Ifl",
        "outputId": "18272eef-8ba8-494b-aa04-89eabab50efa"
      },
      "outputs": [
        {
          "output_type": "execute_result",
          "data": {
            "text/plain": [
              "<matplotlib.axes._subplots.AxesSubplot at 0x7fc42b44d590>"
            ]
          },
          "metadata": {},
          "execution_count": 37
        },
        {
          "output_type": "display_data",
          "data": {
            "text/plain": [
              "<Figure size 432x288 with 1 Axes>"
            ],
            "image/png": "[encoded data removed]"
          },
          "metadata": {
            "needs_background": "light"
          }
        }
      ],
      "source": [
        "df['price'].plot(kind='box')"
      ]
    },
    {
      "cell_type": "markdown",
      "metadata": {
        "id": "MA28dXJT0Ifl"
      },
      "source": [
        "terdeteksi outlier pada fitur `price`. Nilai terjauhnya adalah diatas 60000. Walaupun masih normal dalam konteks harga barang, namun hal ini mampu merubah hasil model menjadi rancu dan tidak sesuai dengan hasil yang diinginkan. Sehingga outlier ini harus diatasi."
      ]
    },
    {
      "cell_type": "code",
      "execution_count": 38,
      "metadata": {
        "id": "HQrAsnyg0Ifl"
      },
      "outputs": [],
      "source": [
        "q1 = np.percentile(df.price,25)\n",
        "q3 = np.percentile(df.price,75)\n",
        "iqr = q3-q1\n",
        "low = q1-3*iqr\n",
        "up = q3+3*iqr"
      ]
    },
    {
      "cell_type": "code",
      "execution_count": 39,
      "metadata": {
        "colab": {
          "base_uri": "https://localhost:8080/"
        },
        "id": "aTUb5MaG0Ifm",
        "outputId": "fe329f18-c982-4570-9bd1-6d9d6a3db2e9"
      },
      "outputs": [
        {
          "output_type": "execute_result",
          "data": {
            "text/plain": [
              "0.018775153062365924"
            ]
          },
          "metadata": {},
          "execution_count": 39
        }
      ],
      "source": [
        "df[(df.price<low)|(df.price>up)].shape[0]/df.shape[0]"
      ]
    },
    {
      "cell_type": "markdown",
      "metadata": {
        "id": "6xDxXCcK0Ifm"
      },
      "source": [
        "outlier yang terdeteksi adalah sekitar 1,8%. Outlier akan didrop dari dataset"
      ]
    },
    {
      "cell_type": "code",
      "execution_count": 40,
      "metadata": {
        "colab": {
          "base_uri": "https://localhost:8080/",
          "height": 661
        },
        "id": "0uLiHL5_0Ifm",
        "outputId": "0abd731f-7ea6-44d2-e595-ffcc6c0674ec"
      },
      "outputs": [
        {
          "output_type": "execute_result",
          "data": {
            "text/plain": [
              "                      event_time event_type  product_id          category_id  \\\n",
              "0      2020-09-24 11:57:06+00:00       view     1996170  2144415922528452715   \n",
              "1      2020-09-24 11:57:26+00:00       view      139905  2144415926932472027   \n",
              "3      2020-09-24 11:57:33+00:00       view      635807  2144415923107266682   \n",
              "4      2020-09-24 11:57:36+00:00       view     3658723  2144415921169498184   \n",
              "5      2020-09-24 11:57:59+00:00       view      664325  2144415951611757447   \n",
              "...                          ...        ...         ...                  ...   \n",
              "885123 2021-02-28 23:54:18+00:00       view     3829355  2144415922528452715   \n",
              "885125 2021-02-28 23:58:05+00:00       view     1715907  2144415927049912542   \n",
              "885126 2021-02-28 23:58:09+00:00       view     4170534  2144415939364389423   \n",
              "885127 2021-02-28 23:58:14+00:00       view      888273  2144415921932861531   \n",
              "885128 2021-02-28 23:59:09+00:00       view      743182  2144415935631458761   \n",
              "\n",
              "                        category_code                  brand   price  \\\n",
              "0               electronics.telephone  electronics.telephone   31.90   \n",
              "1         computers.components.cooler                 zalman   17.16   \n",
              "3       computers.peripherals.printer                 pantum  113.81   \n",
              "4                         cameronsino            cameronsino   15.87   \n",
              "5              construction.tools.saw                 carver   52.33   \n",
              "...                               ...                    ...     ...   \n",
              "885123          electronics.telephone  electronics.telephone   32.22   \n",
              "885125           electronics.video.tv               starwind   80.03   \n",
              "885126             electronics.clocks                amazfit   64.92   \n",
              "885127          electronics.telephone  electronics.telephone   10.16   \n",
              "885128   construction.tools.soldering                   kada   65.08   \n",
              "\n",
              "                    user_id user_session  event_date  event_year  event_month  \\\n",
              "0       1515915625519388267   LJuJVLEjPT  2020-09-24        2020            9   \n",
              "1       1515915625519380411   tdicluNnRY  2020-09-24        2020            9   \n",
              "3       1515915625519014356   aGFYrNgC08  2020-09-24        2020            9   \n",
              "4       1515915625510743344   aa4mmk0kwQ  2020-09-24        2020            9   \n",
              "5       1515915625519388062   vnkdP81DDW  2020-09-24        2020            9   \n",
              "...                     ...          ...         ...         ...          ...   \n",
              "885123  1515915625611023671   wZb7gP1zgN  2021-02-28        2021            2   \n",
              "885125  1515915625611024014   g6WqPf50Ma  2021-02-28        2021            2   \n",
              "885126  1515915625611024020   xNIJBqZdkd  2021-02-28        2021            2   \n",
              "885127  1515915625611024030   9pCbKMIcSx  2021-02-28        2021            2   \n",
              "885128  1515915625556087775   BejOXRngEW  2021-02-28        2021            2   \n",
              "\n",
              "        event_day  \n",
              "0              24  \n",
              "1              24  \n",
              "3              24  \n",
              "4              24  \n",
              "5              24  \n",
              "...           ...  \n",
              "885123         28  \n",
              "885125         28  \n",
              "885126         28  \n",
              "885127         28  \n",
              "885128         28  \n",
              "\n",
              "[789468 rows x 13 columns]"
            ],
            "text/html": [
              "\n",
              "  <div id=\"df-ad3c8cc8-12ee-4fee-9eb1-728f930836ba\">\n",
              "    <div class=\"colab-df-container\">\n",
              "      <div>\n",
              "<style scoped>\n",
              "    .dataframe tbody tr th:only-of-type {\n",
              "        vertical-align: middle;\n",
              "    }\n",
              "\n",
              "    .dataframe tbody tr th {\n",
              "        vertical-align: top;\n",
              "    }\n",
              "\n",
              "    .dataframe thead th {\n",
              "        text-align: right;\n",
              "    }\n",
              "</style>\n",
              "<table border=\"1\" class=\"dataframe\">\n",
              "  <thead>\n",
              "    <tr style=\"text-align: right;\">\n",
              "      <th></th>\n",
              "      <th>event_time</th>\n",
              "      <th>event_type</th>\n",
              "      <th>product_id</th>\n",
              "      <th>category_id</th>\n",
              "      <th>category_code</th>\n",
              "      <th>brand</th>\n",
              "      <th>price</th>\n",
              "      <th>user_id</th>\n",
              "      <th>user_session</th>\n",
              "      <th>event_date</th>\n",
              "      <th>event_year</th>\n",
              "      <th>event_month</th>\n",
              "      <th>event_day</th>\n",
              "    </tr>\n",
              "  </thead>\n",
              "  <tbody>\n",
              "    <tr>\n",
              "      <th>0</th>\n",
              "      <td>2020-09-24 11:57:06+00:00</td>\n",
              "      <td>view</td>\n",
              "      <td>1996170</td>\n",
              "      <td>2144415922528452715</td>\n",
              "      <td>electronics.telephone</td>\n",
              "      <td>electronics.telephone</td>\n",
              "      <td>31.90</td>\n",
              "      <td>1515915625519388267</td>\n",
              "      <td>LJuJVLEjPT</td>\n",
              "      <td>2020-09-24</td>\n",
              "      <td>2020</td>\n",
              "      <td>9</td>\n",
              "      <td>24</td>\n",
              "    </tr>\n",
              "    <tr>\n",
              "      <th>1</th>\n",
              "      <td>2020-09-24 11:57:26+00:00</td>\n",
              "      <td>view</td>\n",
              "      <td>139905</td>\n",
              "      <td>2144415926932472027</td>\n",
              "      <td>computers.components.cooler</td>\n",
              "      <td>zalman</td>\n",
              "      <td>17.16</td>\n",
              "      <td>1515915625519380411</td>\n",
              "      <td>tdicluNnRY</td>\n",
              "      <td>2020-09-24</td>\n",
              "      <td>2020</td>\n",
              "      <td>9</td>\n",
              "      <td>24</td>\n",
              "    </tr>\n",
              "    <tr>\n",
              "      <th>3</th>\n",
              "      <td>2020-09-24 11:57:33+00:00</td>\n",
              "      <td>view</td>\n",
              "      <td>635807</td>\n",
              "      <td>2144415923107266682</td>\n",
              "      <td>computers.peripherals.printer</td>\n",
              "      <td>pantum</td>\n",
              "      <td>113.81</td>\n",
              "      <td>1515915625519014356</td>\n",
              "      <td>aGFYrNgC08</td>\n",
              "      <td>2020-09-24</td>\n",
              "      <td>2020</td>\n",
              "      <td>9</td>\n",
              "      <td>24</td>\n",
              "    </tr>\n",
              "    <tr>\n",
              "      <th>4</th>\n",
              "      <td>2020-09-24 11:57:36+00:00</td>\n",
              "      <td>view</td>\n",
              "      <td>3658723</td>\n",
              "      <td>2144415921169498184</td>\n",
              "      <td>cameronsino</td>\n",
              "      <td>cameronsino</td>\n",
              "      <td>15.87</td>\n",
              "      <td>1515915625510743344</td>\n",
              "      <td>aa4mmk0kwQ</td>\n",
              "      <td>2020-09-24</td>\n",
              "      <td>2020</td>\n",
              "      <td>9</td>\n",
              "      <td>24</td>\n",
              "    </tr>\n",
              "    <tr>\n",
              "      <th>5</th>\n",
              "      <td>2020-09-24 11:57:59+00:00</td>\n",
              "      <td>view</td>\n",
              "      <td>664325</td>\n",
              "      <td>2144415951611757447</td>\n",
              "      <td>construction.tools.saw</td>\n",
              "      <td>carver</td>\n",
              "      <td>52.33</td>\n",
              "      <td>1515915625519388062</td>\n",
              "      <td>vnkdP81DDW</td>\n",
              "      <td>2020-09-24</td>\n",
              "      <td>2020</td>\n",
              "      <td>9</td>\n",
              "      <td>24</td>\n",
              "    </tr>\n",
              "    <tr>\n",
              "      <th>...</th>\n",
              "      <td>...</td>\n",
              "      <td>...</td>\n",
              "      <td>...</td>\n",
              "      <td>...</td>\n",
              "      <td>...</td>\n",
              "      <td>...</td>\n",
              "      <td>...</td>\n",
              "      <td>...</td>\n",
              "      <td>...</td>\n",
              "      <td>...</td>\n",
              "      <td>...</td>\n",
              "      <td>...</td>\n",
              "      <td>...</td>\n",
              "    </tr>\n",
              "    <tr>\n",
              "      <th>885123</th>\n",
              "      <td>2021-02-28 23:54:18+00:00</td>\n",
              "      <td>view</td>\n",
              "      <td>3829355</td>\n",
              "      <td>2144415922528452715</td>\n",
              "      <td>electronics.telephone</td>\n",
              "      <td>electronics.telephone</td>\n",
              "      <td>32.22</td>\n",
              "      <td>1515915625611023671</td>\n",
              "      <td>wZb7gP1zgN</td>\n",
              "      <td>2021-02-28</td>\n",
              "      <td>2021</td>\n",
              "      <td>2</td>\n",
              "      <td>28</td>\n",
              "    </tr>\n",
              "    <tr>\n",
              "      <th>885125</th>\n",
              "      <td>2021-02-28 23:58:05+00:00</td>\n",
              "      <td>view</td>\n",
              "      <td>1715907</td>\n",
              "      <td>2144415927049912542</td>\n",
              "      <td>electronics.video.tv</td>\n",
              "      <td>starwind</td>\n",
              "      <td>80.03</td>\n",
              "      <td>1515915625611024014</td>\n",
              "      <td>g6WqPf50Ma</td>\n",
              "      <td>2021-02-28</td>\n",
              "      <td>2021</td>\n",
              "      <td>2</td>\n",
              "      <td>28</td>\n",
              "    </tr>\n",
              "    <tr>\n",
              "      <th>885126</th>\n",
              "      <td>2021-02-28 23:58:09+00:00</td>\n",
              "      <td>view</td>\n",
              "      <td>4170534</td>\n",
              "      <td>2144415939364389423</td>\n",
              "      <td>electronics.clocks</td>\n",
              "      <td>amazfit</td>\n",
              "      <td>64.92</td>\n",
              "      <td>1515915625611024020</td>\n",
              "      <td>xNIJBqZdkd</td>\n",
              "      <td>2021-02-28</td>\n",
              "      <td>2021</td>\n",
              "      <td>2</td>\n",
              "      <td>28</td>\n",
              "    </tr>\n",
              "    <tr>\n",
              "      <th>885127</th>\n",
              "      <td>2021-02-28 23:58:14+00:00</td>\n",
              "      <td>view</td>\n",
              "      <td>888273</td>\n",
              "      <td>2144415921932861531</td>\n",
              "      <td>electronics.telephone</td>\n",
              "      <td>electronics.telephone</td>\n",
              "      <td>10.16</td>\n",
              "      <td>1515915625611024030</td>\n",
              "      <td>9pCbKMIcSx</td>\n",
              "      <td>2021-02-28</td>\n",
              "      <td>2021</td>\n",
              "      <td>2</td>\n",
              "      <td>28</td>\n",
              "    </tr>\n",
              "    <tr>\n",
              "      <th>885128</th>\n",
              "      <td>2021-02-28 23:59:09+00:00</td>\n",
              "      <td>view</td>\n",
              "      <td>743182</td>\n",
              "      <td>2144415935631458761</td>\n",
              "      <td>construction.tools.soldering</td>\n",
              "      <td>kada</td>\n",
              "      <td>65.08</td>\n",
              "      <td>1515915625556087775</td>\n",
              "      <td>BejOXRngEW</td>\n",
              "      <td>2021-02-28</td>\n",
              "      <td>2021</td>\n",
              "      <td>2</td>\n",
              "      <td>28</td>\n",
              "    </tr>\n",
              "  </tbody>\n",
              "</table>\n",
              "<p>789468 rows × 13 columns</p>\n",
              "</div>\n",
              "      <button class=\"colab-df-convert\" onclick=\"convertToInteractive('df-ad3c8cc8-12ee-4fee-9eb1-728f930836ba')\"\n",
              "              title=\"Convert this dataframe to an interactive table.\"\n",
              "              style=\"display:none;\">\n",
              "        \n",
              "  <svg xmlns=\"http://www.w3.org/2000/svg\" height=\"24px\"viewBox=\"0 0 24 24\"\n",
              "       width=\"24px\">\n",
              "    <path d=\"M0 0h24v24H0V0z\" fill=\"none\"/>\n",
              "    <path d=\"M18.56 5.44l.94 2.06.94-2.06 2.06-.94-2.06-.94-.94-2.06-.94 2.06-2.06.94zm-11 1L8.5 8.5l.94-2.06 2.06-.94-2.06-.94L8.5 2.5l-.94 2.06-2.06.94zm10 10l.94 2.06.94-2.06 2.06-.94-2.06-.94-.94-2.06-.94 2.06-2.06.94z\"/><path d=\"M17.41 7.96l-1.37-1.37c-.4-.4-.92-.59-1.43-.59-.52 0-1.04.2-1.43.59L10.3 9.45l-7.72 7.72c-.78.78-.78 2.05 0 2.83L4 21.41c.39.39.9.59 1.41.59.51 0 1.02-.2 1.41-.59l7.78-7.78 2.81-2.81c.8-.78.8-2.07 0-2.86zM5.41 20L4 18.59l7.72-7.72 1.47 1.35L5.41 20z\"/>\n",
              "  </svg>\n",
              "      </button>\n",
              "      \n",
              "  <style>\n",
              "    .colab-df-container {\n",
              "      display:flex;\n",
              "      flex-wrap:wrap;\n",
              "      gap: 12px;\n",
              "    }\n",
              "\n",
              "    .colab-df-convert {\n",
              "      background-color: #E8F0FE;\n",
              "      border: none;\n",
              "      border-radius: 50%;\n",
              "      cursor: pointer;\n",
              "      display: none;\n",
              "      fill: #1967D2;\n",
              "      height: 32px;\n",
              "      padding: 0 0 0 0;\n",
              "      width: 32px;\n",
              "    }\n",
              "\n",
              "    .colab-df-convert:hover {\n",
              "      background-color: #E2EBFA;\n",
              "      box-shadow: 0px 1px 2px rgba(60, 64, 67, 0.3), 0px 1px 3px 1px rgba(60, 64, 67, 0.15);\n",
              "      fill: #174EA6;\n",
              "    }\n",
              "\n",
              "    [theme=dark] .colab-df-convert {\n",
              "      background-color: #3B4455;\n",
              "      fill: #D2E3FC;\n",
              "    }\n",
              "\n",
              "    [theme=dark] .colab-df-convert:hover {\n",
              "      background-color: #434B5C;\n",
              "      box-shadow: 0px 1px 3px 1px rgba(0, 0, 0, 0.15);\n",
              "      filter: drop-shadow(0px 1px 2px rgba(0, 0, 0, 0.3));\n",
              "      fill: #FFFFFF;\n",
              "    }\n",
              "  </style>\n",
              "\n",
              "      <script>\n",
              "        const buttonEl =\n",
              "          document.querySelector('#df-ad3c8cc8-12ee-4fee-9eb1-728f930836ba button.colab-df-convert');\n",
              "        buttonEl.style.display =\n",
              "          google.colab.kernel.accessAllowed ? 'block' : 'none';\n",
              "\n",
              "        async function convertToInteractive(key) {\n",
              "          const element = document.querySelector('#df-ad3c8cc8-12ee-4fee-9eb1-728f930836ba');\n",
              "          const dataTable =\n",
              "            await google.colab.kernel.invokeFunction('convertToInteractive',\n",
              "                                                     [key], {});\n",
              "          if (!dataTable) return;\n",
              "\n",
              "          const docLinkHtml = 'Like what you see? Visit the ' +\n",
              "            '<a target=\"_blank\" href=https://colab.research.google.com/notebooks/data_table.ipynb>data table notebook</a>'\n",
              "            + ' to learn more about interactive tables.';\n",
              "          element.innerHTML = '';\n",
              "          dataTable['output_type'] = 'display_data';\n",
              "          await google.colab.output.renderOutput(dataTable, element);\n",
              "          const docLink = document.createElement('div');\n",
              "          docLink.innerHTML = docLinkHtml;\n",
              "          element.appendChild(docLink);\n",
              "        }\n",
              "      </script>\n",
              "    </div>\n",
              "  </div>\n",
              "  "
            ]
          },
          "metadata": {},
          "execution_count": 40
        }
      ],
      "source": [
        "df_clean = df.drop(df[(df.price<low)|(df.price>up)].index, axis=0)\n",
        "df_clean"
      ]
    },
    {
      "cell_type": "markdown",
      "metadata": {
        "id": "eCs5PtVz0Ifm"
      },
      "source": [
        "## Feature extraction"
      ]
    },
    {
      "cell_type": "markdown",
      "metadata": {
        "id": "tCbJLuuK0Ifm"
      },
      "source": [
        "Fitur kategori sebelumnya berbentuk gabungan beberapa kata, namun cukup diambil bagian kategori umumnya saja untuk fitur `category_code` sedangkan untuk fitur `brand` akan diambil kategori khususnya."
      ]
    },
    {
      "cell_type": "code",
      "execution_count": 41,
      "metadata": {
        "id": "vjcZxmsn0Ifm"
      },
      "outputs": [],
      "source": [
        "df_clean.category_code = df_clean.category_code.apply(lambda x: x.split(\".\")[0])\n",
        "df_clean.brand = df_clean.brand.apply(lambda x: x.split(\".\")[-1])"
      ]
    },
    {
      "cell_type": "code",
      "execution_count": 42,
      "metadata": {
        "colab": {
          "base_uri": "https://localhost:8080/",
          "height": 661
        },
        "id": "PVTS4MDC0Ifm",
        "outputId": "a8e21277-4659-41b0-b6d7-871140428ebf"
      },
      "outputs": [
        {
          "output_type": "execute_result",
          "data": {
            "text/plain": [
              "                      event_time event_type  product_id          category_id  \\\n",
              "0      2020-09-24 11:57:06+00:00       view     1996170  2144415922528452715   \n",
              "1      2020-09-24 11:57:26+00:00       view      139905  2144415926932472027   \n",
              "3      2020-09-24 11:57:33+00:00       view      635807  2144415923107266682   \n",
              "4      2020-09-24 11:57:36+00:00       view     3658723  2144415921169498184   \n",
              "5      2020-09-24 11:57:59+00:00       view      664325  2144415951611757447   \n",
              "...                          ...        ...         ...                  ...   \n",
              "885123 2021-02-28 23:54:18+00:00       view     3829355  2144415922528452715   \n",
              "885125 2021-02-28 23:58:05+00:00       view     1715907  2144415927049912542   \n",
              "885126 2021-02-28 23:58:09+00:00       view     4170534  2144415939364389423   \n",
              "885127 2021-02-28 23:58:14+00:00       view      888273  2144415921932861531   \n",
              "885128 2021-02-28 23:59:09+00:00       view      743182  2144415935631458761   \n",
              "\n",
              "       category_code        brand   price              user_id user_session  \\\n",
              "0        electronics    telephone   31.90  1515915625519388267   LJuJVLEjPT   \n",
              "1          computers       zalman   17.16  1515915625519380411   tdicluNnRY   \n",
              "3          computers       pantum  113.81  1515915625519014356   aGFYrNgC08   \n",
              "4        cameronsino  cameronsino   15.87  1515915625510743344   aa4mmk0kwQ   \n",
              "5       construction       carver   52.33  1515915625519388062   vnkdP81DDW   \n",
              "...              ...          ...     ...                  ...          ...   \n",
              "885123   electronics    telephone   32.22  1515915625611023671   wZb7gP1zgN   \n",
              "885125   electronics     starwind   80.03  1515915625611024014   g6WqPf50Ma   \n",
              "885126   electronics      amazfit   64.92  1515915625611024020   xNIJBqZdkd   \n",
              "885127   electronics    telephone   10.16  1515915625611024030   9pCbKMIcSx   \n",
              "885128  construction         kada   65.08  1515915625556087775   BejOXRngEW   \n",
              "\n",
              "        event_date  event_year  event_month  event_day  \n",
              "0       2020-09-24        2020            9         24  \n",
              "1       2020-09-24        2020            9         24  \n",
              "3       2020-09-24        2020            9         24  \n",
              "4       2020-09-24        2020            9         24  \n",
              "5       2020-09-24        2020            9         24  \n",
              "...            ...         ...          ...        ...  \n",
              "885123  2021-02-28        2021            2         28  \n",
              "885125  2021-02-28        2021            2         28  \n",
              "885126  2021-02-28        2021            2         28  \n",
              "885127  2021-02-28        2021            2         28  \n",
              "885128  2021-02-28        2021            2         28  \n",
              "\n",
              "[789468 rows x 13 columns]"
            ],
            "text/html": [
              "\n",
              "  <div id=\"df-a39ffb7c-f1a3-4a30-a29e-738f1c7a2bbf\">\n",
              "    <div class=\"colab-df-container\">\n",
              "      <div>\n",
              "<style scoped>\n",
              "    .dataframe tbody tr th:only-of-type {\n",
              "        vertical-align: middle;\n",
              "    }\n",
              "\n",
              "    .dataframe tbody tr th {\n",
              "        vertical-align: top;\n",
              "    }\n",
              "\n",
              "    .dataframe thead th {\n",
              "        text-align: right;\n",
              "    }\n",
              "</style>\n",
              "<table border=\"1\" class=\"dataframe\">\n",
              "  <thead>\n",
              "    <tr style=\"text-align: right;\">\n",
              "      <th></th>\n",
              "      <th>event_time</th>\n",
              "      <th>event_type</th>\n",
              "      <th>product_id</th>\n",
              "      <th>category_id</th>\n",
              "      <th>category_code</th>\n",
              "      <th>brand</th>\n",
              "      <th>price</th>\n",
              "      <th>user_id</th>\n",
              "      <th>user_session</th>\n",
              "      <th>event_date</th>\n",
              "      <th>event_year</th>\n",
              "      <th>event_month</th>\n",
              "      <th>event_day</th>\n",
              "    </tr>\n",
              "  </thead>\n",
              "  <tbody>\n",
              "    <tr>\n",
              "      <th>0</th>\n",
              "      <td>2020-09-24 11:57:06+00:00</td>\n",
              "      <td>view</td>\n",
              "      <td>1996170</td>\n",
              "      <td>2144415922528452715</td>\n",
              "      <td>electronics</td>\n",
              "      <td>telephone</td>\n",
              "      <td>31.90</td>\n",
              "      <td>1515915625519388267</td>\n",
              "      <td>LJuJVLEjPT</td>\n",
              "      <td>2020-09-24</td>\n",
              "      <td>2020</td>\n",
              "      <td>9</td>\n",
              "      <td>24</td>\n",
              "    </tr>\n",
              "    <tr>\n",
              "      <th>1</th>\n",
              "      <td>2020-09-24 11:57:26+00:00</td>\n",
              "      <td>view</td>\n",
              "      <td>139905</td>\n",
              "      <td>2144415926932472027</td>\n",
              "      <td>computers</td>\n",
              "      <td>zalman</td>\n",
              "      <td>17.16</td>\n",
              "      <td>1515915625519380411</td>\n",
              "      <td>tdicluNnRY</td>\n",
              "      <td>2020-09-24</td>\n",
              "      <td>2020</td>\n",
              "      <td>9</td>\n",
              "      <td>24</td>\n",
              "    </tr>\n",
              "    <tr>\n",
              "      <th>3</th>\n",
              "      <td>2020-09-24 11:57:33+00:00</td>\n",
              "      <td>view</td>\n",
              "      <td>635807</td>\n",
              "      <td>2144415923107266682</td>\n",
              "      <td>computers</td>\n",
              "      <td>pantum</td>\n",
              "      <td>113.81</td>\n",
              "      <td>1515915625519014356</td>\n",
              "      <td>aGFYrNgC08</td>\n",
              "      <td>2020-09-24</td>\n",
              "      <td>2020</td>\n",
              "      <td>9</td>\n",
              "      <td>24</td>\n",
              "    </tr>\n",
              "    <tr>\n",
              "      <th>4</th>\n",
              "      <td>2020-09-24 11:57:36+00:00</td>\n",
              "      <td>view</td>\n",
              "      <td>3658723</td>\n",
              "      <td>2144415921169498184</td>\n",
              "      <td>cameronsino</td>\n",
              "      <td>cameronsino</td>\n",
              "      <td>15.87</td>\n",
              "      <td>1515915625510743344</td>\n",
              "      <td>aa4mmk0kwQ</td>\n",
              "      <td>2020-09-24</td>\n",
              "      <td>2020</td>\n",
              "      <td>9</td>\n",
              "      <td>24</td>\n",
              "    </tr>\n",
              "    <tr>\n",
              "      <th>5</th>\n",
              "      <td>2020-09-24 11:57:59+00:00</td>\n",
              "      <td>view</td>\n",
              "      <td>664325</td>\n",
              "      <td>2144415951611757447</td>\n",
              "      <td>construction</td>\n",
              "      <td>carver</td>\n",
              "      <td>52.33</td>\n",
              "      <td>1515915625519388062</td>\n",
              "      <td>vnkdP81DDW</td>\n",
              "      <td>2020-09-24</td>\n",
              "      <td>2020</td>\n",
              "      <td>9</td>\n",
              "      <td>24</td>\n",
              "    </tr>\n",
              "    <tr>\n",
              "      <th>...</th>\n",
              "      <td>...</td>\n",
              "      <td>...</td>\n",
              "      <td>...</td>\n",
              "      <td>...</td>\n",
              "      <td>...</td>\n",
              "      <td>...</td>\n",
              "      <td>...</td>\n",
              "      <td>...</td>\n",
              "      <td>...</td>\n",
              "      <td>...</td>\n",
              "      <td>...</td>\n",
              "      <td>...</td>\n",
              "      <td>...</td>\n",
              "    </tr>\n",
              "    <tr>\n",
              "      <th>885123</th>\n",
              "      <td>2021-02-28 23:54:18+00:00</td>\n",
              "      <td>view</td>\n",
              "      <td>3829355</td>\n",
              "      <td>2144415922528452715</td>\n",
              "      <td>electronics</td>\n",
              "      <td>telephone</td>\n",
              "      <td>32.22</td>\n",
              "      <td>1515915625611023671</td>\n",
              "      <td>wZb7gP1zgN</td>\n",
              "      <td>2021-02-28</td>\n",
              "      <td>2021</td>\n",
              "      <td>2</td>\n",
              "      <td>28</td>\n",
              "    </tr>\n",
              "    <tr>\n",
              "      <th>885125</th>\n",
              "      <td>2021-02-28 23:58:05+00:00</td>\n",
              "      <td>view</td>\n",
              "      <td>1715907</td>\n",
              "      <td>2144415927049912542</td>\n",
              "      <td>electronics</td>\n",
              "      <td>starwind</td>\n",
              "      <td>80.03</td>\n",
              "      <td>1515915625611024014</td>\n",
              "      <td>g6WqPf50Ma</td>\n",
              "      <td>2021-02-28</td>\n",
              "      <td>2021</td>\n",
              "      <td>2</td>\n",
              "      <td>28</td>\n",
              "    </tr>\n",
              "    <tr>\n",
              "      <th>885126</th>\n",
              "      <td>2021-02-28 23:58:09+00:00</td>\n",
              "      <td>view</td>\n",
              "      <td>4170534</td>\n",
              "      <td>2144415939364389423</td>\n",
              "      <td>electronics</td>\n",
              "      <td>amazfit</td>\n",
              "      <td>64.92</td>\n",
              "      <td>1515915625611024020</td>\n",
              "      <td>xNIJBqZdkd</td>\n",
              "      <td>2021-02-28</td>\n",
              "      <td>2021</td>\n",
              "      <td>2</td>\n",
              "      <td>28</td>\n",
              "    </tr>\n",
              "    <tr>\n",
              "      <th>885127</th>\n",
              "      <td>2021-02-28 23:58:14+00:00</td>\n",
              "      <td>view</td>\n",
              "      <td>888273</td>\n",
              "      <td>2144415921932861531</td>\n",
              "      <td>electronics</td>\n",
              "      <td>telephone</td>\n",
              "      <td>10.16</td>\n",
              "      <td>1515915625611024030</td>\n",
              "      <td>9pCbKMIcSx</td>\n",
              "      <td>2021-02-28</td>\n",
              "      <td>2021</td>\n",
              "      <td>2</td>\n",
              "      <td>28</td>\n",
              "    </tr>\n",
              "    <tr>\n",
              "      <th>885128</th>\n",
              "      <td>2021-02-28 23:59:09+00:00</td>\n",
              "      <td>view</td>\n",
              "      <td>743182</td>\n",
              "      <td>2144415935631458761</td>\n",
              "      <td>construction</td>\n",
              "      <td>kada</td>\n",
              "      <td>65.08</td>\n",
              "      <td>1515915625556087775</td>\n",
              "      <td>BejOXRngEW</td>\n",
              "      <td>2021-02-28</td>\n",
              "      <td>2021</td>\n",
              "      <td>2</td>\n",
              "      <td>28</td>\n",
              "    </tr>\n",
              "  </tbody>\n",
              "</table>\n",
              "<p>789468 rows × 13 columns</p>\n",
              "</div>\n",
              "      <button class=\"colab-df-convert\" onclick=\"convertToInteractive('df-a39ffb7c-f1a3-4a30-a29e-738f1c7a2bbf')\"\n",
              "              title=\"Convert this dataframe to an interactive table.\"\n",
              "              style=\"display:none;\">\n",
              "        \n",
              "  <svg xmlns=\"http://www.w3.org/2000/svg\" height=\"24px\"viewBox=\"0 0 24 24\"\n",
              "       width=\"24px\">\n",
              "    <path d=\"M0 0h24v24H0V0z\" fill=\"none\"/>\n",
              "    <path d=\"M18.56 5.44l.94 2.06.94-2.06 2.06-.94-2.06-.94-.94-2.06-.94 2.06-2.06.94zm-11 1L8.5 8.5l.94-2.06 2.06-.94-2.06-.94L8.5 2.5l-.94 2.06-2.06.94zm10 10l.94 2.06.94-2.06 2.06-.94-2.06-.94-.94-2.06-.94 2.06-2.06.94z\"/><path d=\"M17.41 7.96l-1.37-1.37c-.4-.4-.92-.59-1.43-.59-.52 0-1.04.2-1.43.59L10.3 9.45l-7.72 7.72c-.78.78-.78 2.05 0 2.83L4 21.41c.39.39.9.59 1.41.59.51 0 1.02-.2 1.41-.59l7.78-7.78 2.81-2.81c.8-.78.8-2.07 0-2.86zM5.41 20L4 18.59l7.72-7.72 1.47 1.35L5.41 20z\"/>\n",
              "  </svg>\n",
              "      </button>\n",
              "      \n",
              "  <style>\n",
              "    .colab-df-container {\n",
              "      display:flex;\n",
              "      flex-wrap:wrap;\n",
              "      gap: 12px;\n",
              "    }\n",
              "\n",
              "    .colab-df-convert {\n",
              "      background-color: #E8F0FE;\n",
              "      border: none;\n",
              "      border-radius: 50%;\n",
              "      cursor: pointer;\n",
              "      display: none;\n",
              "      fill: #1967D2;\n",
              "      height: 32px;\n",
              "      padding: 0 0 0 0;\n",
              "      width: 32px;\n",
              "    }\n",
              "\n",
              "    .colab-df-convert:hover {\n",
              "      background-color: #E2EBFA;\n",
              "      box-shadow: 0px 1px 2px rgba(60, 64, 67, 0.3), 0px 1px 3px 1px rgba(60, 64, 67, 0.15);\n",
              "      fill: #174EA6;\n",
              "    }\n",
              "\n",
              "    [theme=dark] .colab-df-convert {\n",
              "      background-color: #3B4455;\n",
              "      fill: #D2E3FC;\n",
              "    }\n",
              "\n",
              "    [theme=dark] .colab-df-convert:hover {\n",
              "      background-color: #434B5C;\n",
              "      box-shadow: 0px 1px 3px 1px rgba(0, 0, 0, 0.15);\n",
              "      filter: drop-shadow(0px 1px 2px rgba(0, 0, 0, 0.3));\n",
              "      fill: #FFFFFF;\n",
              "    }\n",
              "  </style>\n",
              "\n",
              "      <script>\n",
              "        const buttonEl =\n",
              "          document.querySelector('#df-a39ffb7c-f1a3-4a30-a29e-738f1c7a2bbf button.colab-df-convert');\n",
              "        buttonEl.style.display =\n",
              "          google.colab.kernel.accessAllowed ? 'block' : 'none';\n",
              "\n",
              "        async function convertToInteractive(key) {\n",
              "          const element = document.querySelector('#df-a39ffb7c-f1a3-4a30-a29e-738f1c7a2bbf');\n",
              "          const dataTable =\n",
              "            await google.colab.kernel.invokeFunction('convertToInteractive',\n",
              "                                                     [key], {});\n",
              "          if (!dataTable) return;\n",
              "\n",
              "          const docLinkHtml = 'Like what you see? Visit the ' +\n",
              "            '<a target=\"_blank\" href=https://colab.research.google.com/notebooks/data_table.ipynb>data table notebook</a>'\n",
              "            + ' to learn more about interactive tables.';\n",
              "          element.innerHTML = '';\n",
              "          dataTable['output_type'] = 'display_data';\n",
              "          await google.colab.output.renderOutput(dataTable, element);\n",
              "          const docLink = document.createElement('div');\n",
              "          docLink.innerHTML = docLinkHtml;\n",
              "          element.appendChild(docLink);\n",
              "        }\n",
              "      </script>\n",
              "    </div>\n",
              "  </div>\n",
              "  "
            ]
          },
          "metadata": {},
          "execution_count": 42
        }
      ],
      "source": [
        "df_clean"
      ]
    },
    {
      "cell_type": "markdown",
      "metadata": {
        "id": "qvvarMus0Ifn"
      },
      "source": [
        "### Produk Paling Diminati"
      ]
    },
    {
      "cell_type": "code",
      "execution_count": 43,
      "metadata": {
        "colab": {
          "base_uri": "https://localhost:8080/",
          "height": 336
        },
        "id": "nwEQgiyt0Ifn",
        "outputId": "7e6a628c-9c43-4a9b-f397-55ec1d0f6361"
      },
      "outputs": [
        {
          "output_type": "execute_result",
          "data": {
            "text/plain": [
              "<matplotlib.axes._subplots.AxesSubplot at 0x7fc42b318ad0>"
            ]
          },
          "metadata": {},
          "execution_count": 43
        },
        {
          "output_type": "display_data",
          "data": {
            "text/plain": [
              "<Figure size 432x288 with 1 Axes>"
            ],
            "image/png": "[encoded data removed]"
          },
          "metadata": {
            "needs_background": "light"
          }
        }
      ],
      "source": [
        "df_clean.category_code.value_counts()[0:11].plot(kind='bar')"
      ]
    },
    {
      "cell_type": "markdown",
      "metadata": {
        "id": "TtZkWmvy0Ifn"
      },
      "source": [
        "Produk komputer merupakan produk yang paling diminati"
      ]
    },
    {
      "cell_type": "code",
      "execution_count": 44,
      "metadata": {
        "colab": {
          "base_uri": "https://localhost:8080/",
          "height": 327
        },
        "id": "oBdmqCcc0Ifn",
        "outputId": "528af832-898d-472b-f90a-d0839720cc6e"
      },
      "outputs": [
        {
          "output_type": "execute_result",
          "data": {
            "text/plain": [
              "<matplotlib.axes._subplots.AxesSubplot at 0x7fc4282bdf50>"
            ]
          },
          "metadata": {},
          "execution_count": 44
        },
        {
          "output_type": "display_data",
          "data": {
            "text/plain": [
              "<Figure size 432x288 with 1 Axes>"
            ],
            "image/png": "[encoded data removed]"
          },
          "metadata": {
            "needs_background": "light"
          }
        }
      ],
      "source": [
        "df_clean.brand.value_counts()[0:11].plot(kind='bar')"
      ]
    },
    {
      "cell_type": "markdown",
      "metadata": {
        "id": "fOuxZI-20Ifn"
      },
      "source": [
        "Telephone disini bukanlah brand namun hasil dari input silang sebelumnya sehingga bisa dikesampingkan. Brand asus adalah brand yang paling diminati. Jadi kesimpulannya, produk-produk komputer tinggi peminat dan brand yang paling banyak diminati adalah brand asus."
      ]
    },
    {
      "cell_type": "markdown",
      "source": [
        "# Model Definition"
      ],
      "metadata": {
        "id": "3VvIFUJA0WxX"
      }
    },
    {
      "cell_type": "markdown",
      "source": [
        "Komputer adalah produk yang paling banyak diminati sehingga dibuatlah model untuk meramalkan harga komputer di masa yang akan datang"
      ],
      "metadata": {
        "id": "CYcvfWREX3FT"
      }
    },
    {
      "cell_type": "code",
      "execution_count": 47,
      "metadata": {
        "colab": {
          "base_uri": "https://localhost:8080/",
          "height": 661
        },
        "id": "lYXPaioj0Ifo",
        "outputId": "bd0ccfb6-4330-4f3c-cdf8-ac65926c742a"
      },
      "outputs": [
        {
          "output_type": "execute_result",
          "data": {
            "text/plain": [
              "                      event_time event_type  product_id          category_id  \\\n",
              "1      2020-09-24 11:57:26+00:00       view      139905  2144415926932472027   \n",
              "3      2020-09-24 11:57:33+00:00       view      635807  2144415923107266682   \n",
              "6      2020-09-24 11:58:23+00:00       view     3791349  2144415935086199225   \n",
              "7      2020-09-24 11:58:24+00:00       view      716611  2144415923694469257   \n",
              "9      2020-09-24 11:58:31+00:00       view      716611  2144415923694469257   \n",
              "...                          ...        ...         ...                  ...   \n",
              "885113 2021-02-28 23:45:38+00:00       view     4079420  2144415922427789416   \n",
              "885118 2021-02-28 23:51:06+00:00       view     3759378  2144415927972659448   \n",
              "885120 2021-02-28 23:51:25+00:00       view      622796  2144415922738167921   \n",
              "885121 2021-02-28 23:51:25+00:00       view      622796  2144415922738167921   \n",
              "885122 2021-02-28 23:53:13+00:00       view     4079420  2144415922427789416   \n",
              "\n",
              "       category_code     brand   price              user_id user_session  \\\n",
              "1          computers    zalman   17.16  1515915625519380411   tdicluNnRY   \n",
              "3          computers    pantum  113.81  1515915625519014356   aGFYrNgC08   \n",
              "6          computers   desktop  215.41  1515915625519388877   J1t6sIYXiV   \n",
              "7          computers    d-link   53.14  1515915625519388882   kVBeYDPcBw   \n",
              "9          computers    d-link   53.14  1515915625519388929   F3VB9LYp39   \n",
              "...              ...       ...     ...                  ...          ...   \n",
              "885113     computers       msi  449.51  1515915625611018641   So7HVPEawt   \n",
              "885118     computers  dockcase   50.16  1515915625611023376   GheawAs525   \n",
              "885120     computers      asus  147.38  1515915625572947504   LJ4H6CRcME   \n",
              "885121     computers      asus  147.38  1515915625572947504   SqlXaC3Wrw   \n",
              "885122     computers       msi  449.51  1515915625611023581   zrl0oKrysT   \n",
              "\n",
              "        event_date  event_year  event_month  event_day  \n",
              "1       2020-09-24        2020            9         24  \n",
              "3       2020-09-24        2020            9         24  \n",
              "6       2020-09-24        2020            9         24  \n",
              "7       2020-09-24        2020            9         24  \n",
              "9       2020-09-24        2020            9         24  \n",
              "...            ...         ...          ...        ...  \n",
              "885113  2021-02-28        2021            2         28  \n",
              "885118  2021-02-28        2021            2         28  \n",
              "885120  2021-02-28        2021            2         28  \n",
              "885121  2021-02-28        2021            2         28  \n",
              "885122  2021-02-28        2021            2         28  \n",
              "\n",
              "[308983 rows x 13 columns]"
            ],
            "text/html": [
              "\n",
              "  <div id=\"df-93f75e1b-2fab-4980-a145-acd61e788051\">\n",
              "    <div class=\"colab-df-container\">\n",
              "      <div>\n",
              "<style scoped>\n",
              "    .dataframe tbody tr th:only-of-type {\n",
              "        vertical-align: middle;\n",
              "    }\n",
              "\n",
              "    .dataframe tbody tr th {\n",
              "        vertical-align: top;\n",
              "    }\n",
              "\n",
              "    .dataframe thead th {\n",
              "        text-align: right;\n",
              "    }\n",
              "</style>\n",
              "<table border=\"1\" class=\"dataframe\">\n",
              "  <thead>\n",
              "    <tr style=\"text-align: right;\">\n",
              "      <th></th>\n",
              "      <th>event_time</th>\n",
              "      <th>event_type</th>\n",
              "      <th>product_id</th>\n",
              "      <th>category_id</th>\n",
              "      <th>category_code</th>\n",
              "      <th>brand</th>\n",
              "      <th>price</th>\n",
              "      <th>user_id</th>\n",
              "      <th>user_session</th>\n",
              "      <th>event_date</th>\n",
              "      <th>event_year</th>\n",
              "      <th>event_month</th>\n",
              "      <th>event_day</th>\n",
              "    </tr>\n",
              "  </thead>\n",
              "  <tbody>\n",
              "    <tr>\n",
              "      <th>1</th>\n",
              "      <td>2020-09-24 11:57:26+00:00</td>\n",
              "      <td>view</td>\n",
              "      <td>139905</td>\n",
              "      <td>2144415926932472027</td>\n",
              "      <td>computers</td>\n",
              "      <td>zalman</td>\n",
              "      <td>17.16</td>\n",
              "      <td>1515915625519380411</td>\n",
              "      <td>tdicluNnRY</td>\n",
              "      <td>2020-09-24</td>\n",
              "      <td>2020</td>\n",
              "      <td>9</td>\n",
              "      <td>24</td>\n",
              "    </tr>\n",
              "    <tr>\n",
              "      <th>3</th>\n",
              "      <td>2020-09-24 11:57:33+00:00</td>\n",
              "      <td>view</td>\n",
              "      <td>635807</td>\n",
              "      <td>2144415923107266682</td>\n",
              "      <td>computers</td>\n",
              "      <td>pantum</td>\n",
              "      <td>113.81</td>\n",
              "      <td>1515915625519014356</td>\n",
              "      <td>aGFYrNgC08</td>\n",
              "      <td>2020-09-24</td>\n",
              "      <td>2020</td>\n",
              "      <td>9</td>\n",
              "      <td>24</td>\n",
              "    </tr>\n",
              "    <tr>\n",
              "      <th>6</th>\n",
              "      <td>2020-09-24 11:58:23+00:00</td>\n",
              "      <td>view</td>\n",
              "      <td>3791349</td>\n",
              "      <td>2144415935086199225</td>\n",
              "      <td>computers</td>\n",
              "      <td>desktop</td>\n",
              "      <td>215.41</td>\n",
              "      <td>1515915625519388877</td>\n",
              "      <td>J1t6sIYXiV</td>\n",
              "      <td>2020-09-24</td>\n",
              "      <td>2020</td>\n",
              "      <td>9</td>\n",
              "      <td>24</td>\n",
              "    </tr>\n",
              "    <tr>\n",
              "      <th>7</th>\n",
              "      <td>2020-09-24 11:58:24+00:00</td>\n",
              "      <td>view</td>\n",
              "      <td>716611</td>\n",
              "      <td>2144415923694469257</td>\n",
              "      <td>computers</td>\n",
              "      <td>d-link</td>\n",
              "      <td>53.14</td>\n",
              "      <td>1515915625519388882</td>\n",
              "      <td>kVBeYDPcBw</td>\n",
              "      <td>2020-09-24</td>\n",
              "      <td>2020</td>\n",
              "      <td>9</td>\n",
              "      <td>24</td>\n",
              "    </tr>\n",
              "    <tr>\n",
              "      <th>9</th>\n",
              "      <td>2020-09-24 11:58:31+00:00</td>\n",
              "      <td>view</td>\n",
              "      <td>716611</td>\n",
              "      <td>2144415923694469257</td>\n",
              "      <td>computers</td>\n",
              "      <td>d-link</td>\n",
              "      <td>53.14</td>\n",
              "      <td>1515915625519388929</td>\n",
              "      <td>F3VB9LYp39</td>\n",
              "      <td>2020-09-24</td>\n",
              "      <td>2020</td>\n",
              "      <td>9</td>\n",
              "      <td>24</td>\n",
              "    </tr>\n",
              "    <tr>\n",
              "      <th>...</th>\n",
              "      <td>...</td>\n",
              "      <td>...</td>\n",
              "      <td>...</td>\n",
              "      <td>...</td>\n",
              "      <td>...</td>\n",
              "      <td>...</td>\n",
              "      <td>...</td>\n",
              "      <td>...</td>\n",
              "      <td>...</td>\n",
              "      <td>...</td>\n",
              "      <td>...</td>\n",
              "      <td>...</td>\n",
              "      <td>...</td>\n",
              "    </tr>\n",
              "    <tr>\n",
              "      <th>885113</th>\n",
              "      <td>2021-02-28 23:45:38+00:00</td>\n",
              "      <td>view</td>\n",
              "      <td>4079420</td>\n",
              "      <td>2144415922427789416</td>\n",
              "      <td>computers</td>\n",
              "      <td>msi</td>\n",
              "      <td>449.51</td>\n",
              "      <td>1515915625611018641</td>\n",
              "      <td>So7HVPEawt</td>\n",
              "      <td>2021-02-28</td>\n",
              "      <td>2021</td>\n",
              "      <td>2</td>\n",
              "      <td>28</td>\n",
              "    </tr>\n",
              "    <tr>\n",
              "      <th>885118</th>\n",
              "      <td>2021-02-28 23:51:06+00:00</td>\n",
              "      <td>view</td>\n",
              "      <td>3759378</td>\n",
              "      <td>2144415927972659448</td>\n",
              "      <td>computers</td>\n",
              "      <td>dockcase</td>\n",
              "      <td>50.16</td>\n",
              "      <td>1515915625611023376</td>\n",
              "      <td>GheawAs525</td>\n",
              "      <td>2021-02-28</td>\n",
              "      <td>2021</td>\n",
              "      <td>2</td>\n",
              "      <td>28</td>\n",
              "    </tr>\n",
              "    <tr>\n",
              "      <th>885120</th>\n",
              "      <td>2021-02-28 23:51:25+00:00</td>\n",
              "      <td>view</td>\n",
              "      <td>622796</td>\n",
              "      <td>2144415922738167921</td>\n",
              "      <td>computers</td>\n",
              "      <td>asus</td>\n",
              "      <td>147.38</td>\n",
              "      <td>1515915625572947504</td>\n",
              "      <td>LJ4H6CRcME</td>\n",
              "      <td>2021-02-28</td>\n",
              "      <td>2021</td>\n",
              "      <td>2</td>\n",
              "      <td>28</td>\n",
              "    </tr>\n",
              "    <tr>\n",
              "      <th>885121</th>\n",
              "      <td>2021-02-28 23:51:25+00:00</td>\n",
              "      <td>view</td>\n",
              "      <td>622796</td>\n",
              "      <td>2144415922738167921</td>\n",
              "      <td>computers</td>\n",
              "      <td>asus</td>\n",
              "      <td>147.38</td>\n",
              "      <td>1515915625572947504</td>\n",
              "      <td>SqlXaC3Wrw</td>\n",
              "      <td>2021-02-28</td>\n",
              "      <td>2021</td>\n",
              "      <td>2</td>\n",
              "      <td>28</td>\n",
              "    </tr>\n",
              "    <tr>\n",
              "      <th>885122</th>\n",
              "      <td>2021-02-28 23:53:13+00:00</td>\n",
              "      <td>view</td>\n",
              "      <td>4079420</td>\n",
              "      <td>2144415922427789416</td>\n",
              "      <td>computers</td>\n",
              "      <td>msi</td>\n",
              "      <td>449.51</td>\n",
              "      <td>1515915625611023581</td>\n",
              "      <td>zrl0oKrysT</td>\n",
              "      <td>2021-02-28</td>\n",
              "      <td>2021</td>\n",
              "      <td>2</td>\n",
              "      <td>28</td>\n",
              "    </tr>\n",
              "  </tbody>\n",
              "</table>\n",
              "<p>308983 rows × 13 columns</p>\n",
              "</div>\n",
              "      <button class=\"colab-df-convert\" onclick=\"convertToInteractive('df-93f75e1b-2fab-4980-a145-acd61e788051')\"\n",
              "              title=\"Convert this dataframe to an interactive table.\"\n",
              "              style=\"display:none;\">\n",
              "        \n",
              "  <svg xmlns=\"http://www.w3.org/2000/svg\" height=\"24px\"viewBox=\"0 0 24 24\"\n",
              "       width=\"24px\">\n",
              "    <path d=\"M0 0h24v24H0V0z\" fill=\"none\"/>\n",
              "    <path d=\"M18.56 5.44l.94 2.06.94-2.06 2.06-.94-2.06-.94-.94-2.06-.94 2.06-2.06.94zm-11 1L8.5 8.5l.94-2.06 2.06-.94-2.06-.94L8.5 2.5l-.94 2.06-2.06.94zm10 10l.94 2.06.94-2.06 2.06-.94-2.06-.94-.94-2.06-.94 2.06-2.06.94z\"/><path d=\"M17.41 7.96l-1.37-1.37c-.4-.4-.92-.59-1.43-.59-.52 0-1.04.2-1.43.59L10.3 9.45l-7.72 7.72c-.78.78-.78 2.05 0 2.83L4 21.41c.39.39.9.59 1.41.59.51 0 1.02-.2 1.41-.59l7.78-7.78 2.81-2.81c.8-.78.8-2.07 0-2.86zM5.41 20L4 18.59l7.72-7.72 1.47 1.35L5.41 20z\"/>\n",
              "  </svg>\n",
              "      </button>\n",
              "      \n",
              "  <style>\n",
              "    .colab-df-container {\n",
              "      display:flex;\n",
              "      flex-wrap:wrap;\n",
              "      gap: 12px;\n",
              "    }\n",
              "\n",
              "    .colab-df-convert {\n",
              "      background-color: #E8F0FE;\n",
              "      border: none;\n",
              "      border-radius: 50%;\n",
              "      cursor: pointer;\n",
              "      display: none;\n",
              "      fill: #1967D2;\n",
              "      height: 32px;\n",
              "      padding: 0 0 0 0;\n",
              "      width: 32px;\n",
              "    }\n",
              "\n",
              "    .colab-df-convert:hover {\n",
              "      background-color: #E2EBFA;\n",
              "      box-shadow: 0px 1px 2px rgba(60, 64, 67, 0.3), 0px 1px 3px 1px rgba(60, 64, 67, 0.15);\n",
              "      fill: #174EA6;\n",
              "    }\n",
              "\n",
              "    [theme=dark] .colab-df-convert {\n",
              "      background-color: #3B4455;\n",
              "      fill: #D2E3FC;\n",
              "    }\n",
              "\n",
              "    [theme=dark] .colab-df-convert:hover {\n",
              "      background-color: #434B5C;\n",
              "      box-shadow: 0px 1px 3px 1px rgba(0, 0, 0, 0.15);\n",
              "      filter: drop-shadow(0px 1px 2px rgba(0, 0, 0, 0.3));\n",
              "      fill: #FFFFFF;\n",
              "    }\n",
              "  </style>\n",
              "\n",
              "      <script>\n",
              "        const buttonEl =\n",
              "          document.querySelector('#df-93f75e1b-2fab-4980-a145-acd61e788051 button.colab-df-convert');\n",
              "        buttonEl.style.display =\n",
              "          google.colab.kernel.accessAllowed ? 'block' : 'none';\n",
              "\n",
              "        async function convertToInteractive(key) {\n",
              "          const element = document.querySelector('#df-93f75e1b-2fab-4980-a145-acd61e788051');\n",
              "          const dataTable =\n",
              "            await google.colab.kernel.invokeFunction('convertToInteractive',\n",
              "                                                     [key], {});\n",
              "          if (!dataTable) return;\n",
              "\n",
              "          const docLinkHtml = 'Like what you see? Visit the ' +\n",
              "            '<a target=\"_blank\" href=https://colab.research.google.com/notebooks/data_table.ipynb>data table notebook</a>'\n",
              "            + ' to learn more about interactive tables.';\n",
              "          element.innerHTML = '';\n",
              "          dataTable['output_type'] = 'display_data';\n",
              "          await google.colab.output.renderOutput(dataTable, element);\n",
              "          const docLink = document.createElement('div');\n",
              "          docLink.innerHTML = docLinkHtml;\n",
              "          element.appendChild(docLink);\n",
              "        }\n",
              "      </script>\n",
              "    </div>\n",
              "  </div>\n",
              "  "
            ]
          },
          "metadata": {},
          "execution_count": 47
        }
      ],
      "source": [
        "comp = df_clean[df_clean.category_code=='computers']\n",
        "comp"
      ]
    },
    {
      "cell_type": "code",
      "execution_count": 48,
      "metadata": {
        "colab": {
          "base_uri": "https://localhost:8080/",
          "height": 282
        },
        "id": "lVC5_FYI0Ifo",
        "outputId": "598e97ac-3744-4a95-b9a1-9b1bd261e7f5"
      },
      "outputs": [
        {
          "output_type": "execute_result",
          "data": {
            "text/plain": [
              "<matplotlib.axes._subplots.AxesSubplot at 0x7fc4282679d0>"
            ]
          },
          "metadata": {},
          "execution_count": 48
        },
        {
          "output_type": "display_data",
          "data": {
            "text/plain": [
              "<Figure size 432x288 with 1 Axes>"
            ],
            "image/png": "[encoded data removed]"
          },
          "metadata": {
            "needs_background": "light"
          }
        }
      ],
      "source": [
        "comp[['event_date','price']].plot(kind='box')"
      ]
    },
    {
      "cell_type": "code",
      "execution_count": 49,
      "metadata": {
        "colab": {
          "base_uri": "https://localhost:8080/"
        },
        "id": "xmoHUFNZ0Ifo",
        "outputId": "26ca1fd0-46ef-48f3-f082-2c32b16b4cd9"
      },
      "outputs": [
        {
          "output_type": "stream",
          "name": "stderr",
          "text": [
            "/usr/local/lib/python3.7/dist-packages/statsmodels/tools/_testing.py:19: FutureWarning: pandas.util.testing is deprecated. Use the functions in the public API at pandas.testing instead.\n",
            "  import pandas.util.testing as tm\n"
          ]
        }
      ],
      "source": [
        "from statsmodels.tsa.arima_model import ARIMA\n"
      ]
    },
    {
      "cell_type": "markdown",
      "source": [
        "model yang digunakan untuk meramal harga komputer adalah model ARIMA"
      ],
      "metadata": {
        "id": "aoKrv-w5UVyd"
      }
    },
    {
      "cell_type": "code",
      "execution_count": 50,
      "metadata": {
        "id": "cEK8de910Ifo"
      },
      "outputs": [],
      "source": [
        "comprice = comp[['event_date','price']]\n",
        "comprice.set_index('event_date', inplace=True)\n",
        "comprice.index = pd.DatetimeIndex(comprice.index).to_period('M')"
      ]
    },
    {
      "cell_type": "code",
      "execution_count": 51,
      "metadata": {
        "colab": {
          "base_uri": "https://localhost:8080/",
          "height": 455
        },
        "id": "dTSgLCSZ0Ifo",
        "outputId": "29a08aa2-d707-4b09-e354-97352d604055"
      },
      "outputs": [
        {
          "output_type": "execute_result",
          "data": {
            "text/plain": [
              "             price\n",
              "event_date        \n",
              "2020-09      17.16\n",
              "2020-09     113.81\n",
              "2020-09     215.41\n",
              "2020-09      53.14\n",
              "2020-09      53.14\n",
              "...            ...\n",
              "2021-02     449.51\n",
              "2021-02      50.16\n",
              "2021-02     147.38\n",
              "2021-02     147.38\n",
              "2021-02     449.51\n",
              "\n",
              "[308983 rows x 1 columns]"
            ],
            "text/html": [
              "\n",
              "  <div id=\"df-25f1145b-763b-4950-8320-7d3c827f79d2\">\n",
              "    <div class=\"colab-df-container\">\n",
              "      <div>\n",
              "<style scoped>\n",
              "    .dataframe tbody tr th:only-of-type {\n",
              "        vertical-align: middle;\n",
              "    }\n",
              "\n",
              "    .dataframe tbody tr th {\n",
              "        vertical-align: top;\n",
              "    }\n",
              "\n",
              "    .dataframe thead th {\n",
              "        text-align: right;\n",
              "    }\n",
              "</style>\n",
              "<table border=\"1\" class=\"dataframe\">\n",
              "  <thead>\n",
              "    <tr style=\"text-align: right;\">\n",
              "      <th></th>\n",
              "      <th>price</th>\n",
              "    </tr>\n",
              "    <tr>\n",
              "      <th>event_date</th>\n",
              "      <th></th>\n",
              "    </tr>\n",
              "  </thead>\n",
              "  <tbody>\n",
              "    <tr>\n",
              "      <th>2020-09</th>\n",
              "      <td>17.16</td>\n",
              "    </tr>\n",
              "    <tr>\n",
              "      <th>2020-09</th>\n",
              "      <td>113.81</td>\n",
              "    </tr>\n",
              "    <tr>\n",
              "      <th>2020-09</th>\n",
              "      <td>215.41</td>\n",
              "    </tr>\n",
              "    <tr>\n",
              "      <th>2020-09</th>\n",
              "      <td>53.14</td>\n",
              "    </tr>\n",
              "    <tr>\n",
              "      <th>2020-09</th>\n",
              "      <td>53.14</td>\n",
              "    </tr>\n",
              "    <tr>\n",
              "      <th>...</th>\n",
              "      <td>...</td>\n",
              "    </tr>\n",
              "    <tr>\n",
              "      <th>2021-02</th>\n",
              "      <td>449.51</td>\n",
              "    </tr>\n",
              "    <tr>\n",
              "      <th>2021-02</th>\n",
              "      <td>50.16</td>\n",
              "    </tr>\n",
              "    <tr>\n",
              "      <th>2021-02</th>\n",
              "      <td>147.38</td>\n",
              "    </tr>\n",
              "    <tr>\n",
              "      <th>2021-02</th>\n",
              "      <td>147.38</td>\n",
              "    </tr>\n",
              "    <tr>\n",
              "      <th>2021-02</th>\n",
              "      <td>449.51</td>\n",
              "    </tr>\n",
              "  </tbody>\n",
              "</table>\n",
              "<p>308983 rows × 1 columns</p>\n",
              "</div>\n",
              "      <button class=\"colab-df-convert\" onclick=\"convertToInteractive('df-25f1145b-763b-4950-8320-7d3c827f79d2')\"\n",
              "              title=\"Convert this dataframe to an interactive table.\"\n",
              "              style=\"display:none;\">\n",
              "        \n",
              "  <svg xmlns=\"http://www.w3.org/2000/svg\" height=\"24px\"viewBox=\"0 0 24 24\"\n",
              "       width=\"24px\">\n",
              "    <path d=\"M0 0h24v24H0V0z\" fill=\"none\"/>\n",
              "    <path d=\"M18.56 5.44l.94 2.06.94-2.06 2.06-.94-2.06-.94-.94-2.06-.94 2.06-2.06.94zm-11 1L8.5 8.5l.94-2.06 2.06-.94-2.06-.94L8.5 2.5l-.94 2.06-2.06.94zm10 10l.94 2.06.94-2.06 2.06-.94-2.06-.94-.94-2.06-.94 2.06-2.06.94z\"/><path d=\"M17.41 7.96l-1.37-1.37c-.4-.4-.92-.59-1.43-.59-.52 0-1.04.2-1.43.59L10.3 9.45l-7.72 7.72c-.78.78-.78 2.05 0 2.83L4 21.41c.39.39.9.59 1.41.59.51 0 1.02-.2 1.41-.59l7.78-7.78 2.81-2.81c.8-.78.8-2.07 0-2.86zM5.41 20L4 18.59l7.72-7.72 1.47 1.35L5.41 20z\"/>\n",
              "  </svg>\n",
              "      </button>\n",
              "      \n",
              "  <style>\n",
              "    .colab-df-container {\n",
              "      display:flex;\n",
              "      flex-wrap:wrap;\n",
              "      gap: 12px;\n",
              "    }\n",
              "\n",
              "    .colab-df-convert {\n",
              "      background-color: #E8F0FE;\n",
              "      border: none;\n",
              "      border-radius: 50%;\n",
              "      cursor: pointer;\n",
              "      display: none;\n",
              "      fill: #1967D2;\n",
              "      height: 32px;\n",
              "      padding: 0 0 0 0;\n",
              "      width: 32px;\n",
              "    }\n",
              "\n",
              "    .colab-df-convert:hover {\n",
              "      background-color: #E2EBFA;\n",
              "      box-shadow: 0px 1px 2px rgba(60, 64, 67, 0.3), 0px 1px 3px 1px rgba(60, 64, 67, 0.15);\n",
              "      fill: #174EA6;\n",
              "    }\n",
              "\n",
              "    [theme=dark] .colab-df-convert {\n",
              "      background-color: #3B4455;\n",
              "      fill: #D2E3FC;\n",
              "    }\n",
              "\n",
              "    [theme=dark] .colab-df-convert:hover {\n",
              "      background-color: #434B5C;\n",
              "      box-shadow: 0px 1px 3px 1px rgba(0, 0, 0, 0.15);\n",
              "      filter: drop-shadow(0px 1px 2px rgba(0, 0, 0, 0.3));\n",
              "      fill: #FFFFFF;\n",
              "    }\n",
              "  </style>\n",
              "\n",
              "      <script>\n",
              "        const buttonEl =\n",
              "          document.querySelector('#df-25f1145b-763b-4950-8320-7d3c827f79d2 button.colab-df-convert');\n",
              "        buttonEl.style.display =\n",
              "          google.colab.kernel.accessAllowed ? 'block' : 'none';\n",
              "\n",
              "        async function convertToInteractive(key) {\n",
              "          const element = document.querySelector('#df-25f1145b-763b-4950-8320-7d3c827f79d2');\n",
              "          const dataTable =\n",
              "            await google.colab.kernel.invokeFunction('convertToInteractive',\n",
              "                                                     [key], {});\n",
              "          if (!dataTable) return;\n",
              "\n",
              "          const docLinkHtml = 'Like what you see? Visit the ' +\n",
              "            '<a target=\"_blank\" href=https://colab.research.google.com/notebooks/data_table.ipynb>data table notebook</a>'\n",
              "            + ' to learn more about interactive tables.';\n",
              "          element.innerHTML = '';\n",
              "          dataTable['output_type'] = 'display_data';\n",
              "          await google.colab.output.renderOutput(dataTable, element);\n",
              "          const docLink = document.createElement('div');\n",
              "          docLink.innerHTML = docLinkHtml;\n",
              "          element.appendChild(docLink);\n",
              "        }\n",
              "      </script>\n",
              "    </div>\n",
              "  </div>\n",
              "  "
            ]
          },
          "metadata": {},
          "execution_count": 51
        }
      ],
      "source": [
        "comprice"
      ]
    },
    {
      "cell_type": "markdown",
      "source": [
        "# Model Training and Evaluation"
      ],
      "metadata": {
        "id": "9MEQMK69UX-D"
      }
    },
    {
      "cell_type": "markdown",
      "source": [
        "Dalam mencari model terbaik maka akan digunakan AIC untuk meninjau model ARIMA terbaik. Makin kecil nilai AIC makin baik pula performa model."
      ],
      "metadata": {
        "id": "ndUQg6ciYZ9h"
      }
    },
    {
      "cell_type": "code",
      "execution_count": 52,
      "metadata": {
        "id": "53ObD2T40Ifo"
      },
      "outputs": [],
      "source": [
        "mod110 = ARIMA(comprice, order=(1,1,0))"
      ]
    },
    {
      "cell_type": "code",
      "execution_count": 53,
      "metadata": {
        "colab": {
          "base_uri": "https://localhost:8080/"
        },
        "id": "64L2zWn20Ifo",
        "outputId": "1ddd4c1b-9b90-49b0-8ac5-fb7796388962"
      },
      "outputs": [
        {
          "output_type": "stream",
          "name": "stdout",
          "text": [
            "The AIC is 4098888.9904785845\n"
          ]
        }
      ],
      "source": [
        "res110=mod110.fit()\n",
        "print('The AIC is',res110.aic)"
      ]
    },
    {
      "cell_type": "code",
      "execution_count": 54,
      "metadata": {
        "id": "vmf6cMN10Ifp"
      },
      "outputs": [],
      "source": [
        "mod100 = ARIMA(comprice, order=(1,0,0))"
      ]
    },
    {
      "cell_type": "code",
      "execution_count": 55,
      "metadata": {
        "colab": {
          "base_uri": "https://localhost:8080/"
        },
        "id": "lQ1XkaGt0Ifp",
        "outputId": "fe4b8f1b-ce4d-40f6-f85b-d87454425b32"
      },
      "outputs": [
        {
          "output_type": "stream",
          "name": "stdout",
          "text": [
            "The AIC is 4032994.2477302006\n"
          ]
        }
      ],
      "source": [
        "res100=mod100.fit()\n",
        "print('The AIC is',res100.aic)"
      ]
    },
    {
      "cell_type": "code",
      "execution_count": 56,
      "metadata": {
        "colab": {
          "base_uri": "https://localhost:8080/"
        },
        "id": "TiC8oEH30Ifp",
        "outputId": "9d496778-a022-4874-b779-4e71f750f1b5"
      },
      "outputs": [
        {
          "output_type": "stream",
          "name": "stdout",
          "text": [
            "The AIC is 4038151.98728722\n"
          ]
        }
      ],
      "source": [
        "mod001 = ARIMA(comprice, order=(0,0,1))\n",
        "res001=mod001.fit()\n",
        "print('The AIC is',res001.aic)"
      ]
    },
    {
      "cell_type": "code",
      "execution_count": 57,
      "metadata": {
        "colab": {
          "base_uri": "https://localhost:8080/"
        },
        "id": "4PewAXrc0Ifp",
        "outputId": "4253fd02-0a95-414c-ed19-c6115d4ad86d"
      },
      "outputs": [
        {
          "output_type": "stream",
          "name": "stdout",
          "text": [
            "The AIC is 4016959.855649614\n"
          ]
        }
      ],
      "source": [
        "mod011 = ARIMA(comprice, order=(0,1,1))\n",
        "res011=mod011.fit()\n",
        "print('The AIC is',res011.aic)"
      ]
    },
    {
      "cell_type": "code",
      "execution_count": 58,
      "metadata": {
        "colab": {
          "base_uri": "https://localhost:8080/"
        },
        "id": "vHReLzU50Ifp",
        "outputId": "1e9e9dc2-3249-45bb-eee8-04f21e5decd8"
      },
      "outputs": [
        {
          "output_type": "stream",
          "name": "stdout",
          "text": [
            "The AIC is 4012782.324095536\n"
          ]
        }
      ],
      "source": [
        "mod111 = ARIMA(comprice, order=(1,1,1))\n",
        "res111=mod111.fit()\n",
        "print('The AIC is',res111.aic)"
      ]
    },
    {
      "cell_type": "code",
      "execution_count": 59,
      "metadata": {
        "colab": {
          "base_uri": "https://localhost:8080/"
        },
        "id": "SHRRCnRN0Ifq",
        "outputId": "f0887ca5-5db7-4e22-c4be-8517ebcd35ba"
      },
      "outputs": [
        {
          "output_type": "stream",
          "name": "stdout",
          "text": [
            "The AIC is 4008045.3966876687\n"
          ]
        }
      ],
      "source": [
        "mod112 = ARIMA(comprice, order=(1,1,2))\n",
        "res112=mod112.fit()\n",
        "print('The AIC is',res112.aic)"
      ]
    },
    {
      "cell_type": "code",
      "source": [
        "mod115 = ARIMA(comprice, order=(1,1,5))\n",
        "res115=mod115.fit()\n",
        "print('The AIC is',res115.aic)"
      ],
      "metadata": {
        "colab": {
          "base_uri": "https://localhost:8080/"
        },
        "id": "Mgw4i9UK89_H",
        "outputId": "6731880a-31ca-4995-d9ce-144393897d1a"
      },
      "execution_count": 65,
      "outputs": [
        {
          "output_type": "stream",
          "name": "stdout",
          "text": [
            "The AIC is 4007722.4759692447\n"
          ]
        }
      ]
    },
    {
      "cell_type": "code",
      "source": [
        "mod116 = ARIMA(comprice, order=(1,1,6))\n",
        "res116=mod116.fit()\n",
        "print('The AIC is',res116.aic)"
      ],
      "metadata": {
        "colab": {
          "base_uri": "https://localhost:8080/"
        },
        "id": "SJJrTDCVDy2r",
        "outputId": "4dfdfe39-b3f8-4f4f-9af0-2a90937d3edb"
      },
      "execution_count": 69,
      "outputs": [
        {
          "output_type": "stream",
          "name": "stdout",
          "text": [
            "The AIC is 4007679.7611203976\n"
          ]
        }
      ]
    },
    {
      "cell_type": "markdown",
      "source": [
        "# Visualisasi model ARIMA"
      ],
      "metadata": {
        "id": "ZNlH951rYpyC"
      }
    },
    {
      "cell_type": "markdown",
      "source": [
        "Berikut adalah beberapa plot model ARIMA:\n",
        "1. ARIMA (1,1,6) dengan AIC sebesar 4007679.7611203976\n",
        "Sejauh ini model ini adalah model yang memiliki nilai AIC terkecil. Jika dilihat dari plotnya, model yang didapat masih underfitting dengan model aslinya. Hasil peramalan harga komputer 2 bulan kedepan menunjukkan penurunan yang signifikan."
      ],
      "metadata": {
        "id": "lGMiZBBVYvNF"
      }
    },
    {
      "cell_type": "code",
      "source": [
        "fig,ax=plt.subplots(figsize=(15,5))\n",
        "res116.plot_predict(start='2020-09', end=comprice.index[-1]+2,ax=ax)\n",
        "plt.show()"
      ],
      "metadata": {
        "colab": {
          "base_uri": "https://localhost:8080/",
          "height": 331
        },
        "id": "1WMD_lVmEQHI",
        "outputId": "fdd2a298-6dc0-4889-ed55-37dd835399be"
      },
      "execution_count": 70,
      "outputs": [
        {
          "output_type": "display_data",
          "data": {
            "text/plain": [
              "<Figure size 1080x360 with 1 Axes>"
            ],
            "image/png": "[encoded data removed]"
          },
          "metadata": {
            "needs_background": "light"
          }
        }
      ]
    },
    {
      "cell_type": "markdown",
      "source": [
        "2. ARIMA(1,1,5)\n",
        "Hasil plot model ini juga menunjukkan model yang underfitting, namun model dapat mengikuti pola tren positif dari model aslinya. Hasil peramalan dari model ini untuk 2 bulan kedepan adalah mengalami penurunan."
      ],
      "metadata": {
        "id": "8lEorYTtZV3m"
      }
    },
    {
      "cell_type": "code",
      "source": [
        "fig,ax=plt.subplots(figsize=(15,5))\n",
        "res115.plot_predict(start='2020-09', end=comprice.index[-1]+2,ax=ax)\n",
        "plt.show()"
      ],
      "metadata": {
        "colab": {
          "base_uri": "https://localhost:8080/",
          "height": 331
        },
        "id": "z_l9f1gGDtiD",
        "outputId": "cffff8da-d46d-4f19-de35-4a69550ee136"
      },
      "execution_count": 66,
      "outputs": [
        {
          "output_type": "display_data",
          "data": {
            "text/plain": [
              "<Figure size 1080x360 with 1 Axes>"
            ],
            "image/png": "[encoded data removed]"
          },
          "metadata": {
            "needs_background": "light"
          }
        }
      ]
    },
    {
      "cell_type": "markdown",
      "source": [
        "3. ARIMA (1,1,1) juga menunjukkan performa model yang underfitting melihat besarnya perbedaan dengan data asli. Tidak jauh berbeda dengan model ARIMA(1,1,5)"
      ],
      "metadata": {
        "id": "a5C3ImuZZ2sW"
      }
    },
    {
      "cell_type": "code",
      "execution_count": 62,
      "metadata": {
        "colab": {
          "base_uri": "https://localhost:8080/",
          "height": 331
        },
        "id": "t7hpDM160Ifq",
        "outputId": "1bd7e378-13d5-4d50-8a87-46feb344eec6"
      },
      "outputs": [
        {
          "output_type": "display_data",
          "data": {
            "text/plain": [
              "<Figure size 1080x360 with 1 Axes>"
            ],
            "image/png": "[encoded data removed]"
          },
          "metadata": {
            "needs_background": "light"
          }
        }
      ],
      "source": [
        "fig,ax=plt.subplots(figsize=(15,5))\n",
        "res111.plot_predict(start='2020-09', end=comprice.index[-1]+2,ax=ax)\n",
        "plt.show()"
      ]
    },
    {
      "cell_type": "markdown",
      "source": [
        "4. ARIMA(0,0,1) hasilnya jauh berbeda dengan data harga komputer yang asli dan nilai penurunannya lebih curam dari model yang lain namun prediksinya tertinggi yaitu berada di atas 150"
      ],
      "metadata": {
        "id": "WPY4OlszaGd4"
      }
    },
    {
      "cell_type": "code",
      "execution_count": 63,
      "metadata": {
        "colab": {
          "base_uri": "https://localhost:8080/",
          "height": 331
        },
        "id": "WrasMefJ0Ifq",
        "outputId": "cfa9614f-c913-480e-81ab-220fce2b6d08"
      },
      "outputs": [
        {
          "output_type": "display_data",
          "data": {
            "text/plain": [
              "<Figure size 1080x360 with 1 Axes>"
            ],
            "image/png": "[encoded data removed]"
          },
          "metadata": {
            "needs_background": "light"
          }
        }
      ],
      "source": [
        "fig,ax=plt.subplots(figsize=(15,5))\n",
        "res001.plot_predict(start='2020-09', end=comprice.index[-1]+2,ax=ax)\n",
        "plt.show()"
      ]
    },
    {
      "cell_type": "markdown",
      "source": [
        "# Conclusion"
      ],
      "metadata": {
        "id": "GEuaqrcEUctr"
      }
    },
    {
      "cell_type": "markdown",
      "source": [
        "1. Kebanyakan pengunjung web hanya melihat-lihat barang saja, hanya sedikit yang melakukan transaksi.\n",
        "2. Rata-rata penjualan produk terjadi pada bulan Februari 2021\n",
        "3. Produk-produk komputer adalah produk yang paling banyak diminati, brand komputer yang sedang digandrungi adalah brand asus.\n",
        "4. model ARIMA dengan AIC terendah adalah ARIMA(1,1,6)\n",
        "5. Harga penjualan komputer pada bulan Maret dan April 2021 adalah 110 dan 100. Menurun dari bulan-bulan sebelumnya\n"
      ],
      "metadata": {
        "id": "DmcHn3XTa1Ma"
      }
    },
    {
      "cell_type": "code",
      "source": [
        ""
      ],
      "metadata": {
        "id": "eUsC_njP87lt"
      },
      "execution_count": null,
      "outputs": []
    }
  ],
  "metadata": {
    "kernelspec": {
      "display_name": "Python 3.10.3 64-bit",
      "language": "python",
      "name": "python3"
    },
    "language_info": {
      "codemirror_mode": {
        "name": "ipython",
        "version": 3
      },
      "file_extension": ".py",
      "mimetype": "text/x-python",
      "name": "python",
      "nbconvert_exporter": "python",
      "pygments_lexer": "ipython3",
      "version": "3.10.3"
    },
    "orig_nbformat": 4,
    "vscode": {
      "interpreter": {
        "hash": "27f6fea6f47ae512550f0b8facdbd035a93e1dd89633f7bf2dd00a2502c71d0d"
      }
    },
    "colab": {
      "name": "Forecasting_price.ipynb",
      "provenance": [],
      "toc_visible": true
    },
    "accelerator": "GPU",
    "gpuClass": "standard"
  },
  "nbformat": 4,
  "nbformat_minor": 0
}